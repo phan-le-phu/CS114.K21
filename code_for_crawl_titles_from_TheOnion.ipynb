{
  "nbformat": 4,
  "nbformat_minor": 0,
  "metadata": {
    "colab": {
      "name": "code_for_crawl_titles_from_TheOnion.ipynb",
      "provenance": [],
      "authorship_tag": "ABX9TyNmD1Wo4vMWjJ6MrOOE8IuV",
      "include_colab_link": true
    },
    "kernelspec": {
      "name": "python3",
      "display_name": "Python 3"
    }
  },
  "cells": [
    {
      "cell_type": "markdown",
      "metadata": {
        "id": "view-in-github",
        "colab_type": "text"
      },
      "source": [
        "<a href=\"https://colab.research.google.com/github/phan-le-phu/CS114.K21/blob/master/code_for_crawl_titles_from_TheOnion.ipynb\" target=\"_parent\"><img src=\"https://colab.research.google.com/assets/colab-badge.svg\" alt=\"Open In Colab\"/></a>"
      ]
    },
    {
      "cell_type": "code",
      "metadata": {
        "id": "OUZJAZc1WWhz",
        "colab_type": "code",
        "colab": {
          "base_uri": "https://localhost:8080/",
          "height": 238
        },
        "outputId": "2b9bafc2-01c2-40ea-9382-cba26c944763"
      },
      "source": [
        "!pip install pandas requests bs4"
      ],
      "execution_count": null,
      "outputs": [
        {
          "output_type": "stream",
          "text": [
            "Requirement already satisfied: pandas in /usr/local/lib/python3.6/dist-packages (1.0.4)\n",
            "Requirement already satisfied: requests in /usr/local/lib/python3.6/dist-packages (2.23.0)\n",
            "Requirement already satisfied: bs4 in /usr/local/lib/python3.6/dist-packages (0.0.1)\n",
            "Requirement already satisfied: pytz>=2017.2 in /usr/local/lib/python3.6/dist-packages (from pandas) (2018.9)\n",
            "Requirement already satisfied: numpy>=1.13.3 in /usr/local/lib/python3.6/dist-packages (from pandas) (1.18.5)\n",
            "Requirement already satisfied: python-dateutil>=2.6.1 in /usr/local/lib/python3.6/dist-packages (from pandas) (2.8.1)\n",
            "Requirement already satisfied: idna<3,>=2.5 in /usr/local/lib/python3.6/dist-packages (from requests) (2.9)\n",
            "Requirement already satisfied: urllib3!=1.25.0,!=1.25.1,<1.26,>=1.21.1 in /usr/local/lib/python3.6/dist-packages (from requests) (1.24.3)\n",
            "Requirement already satisfied: chardet<4,>=3.0.2 in /usr/local/lib/python3.6/dist-packages (from requests) (3.0.4)\n",
            "Requirement already satisfied: certifi>=2017.4.17 in /usr/local/lib/python3.6/dist-packages (from requests) (2020.4.5.2)\n",
            "Requirement already satisfied: beautifulsoup4 in /usr/local/lib/python3.6/dist-packages (from bs4) (4.6.3)\n",
            "Requirement already satisfied: six>=1.5 in /usr/local/lib/python3.6/dist-packages (from python-dateutil>=2.6.1->pandas) (1.12.0)\n"
          ],
          "name": "stdout"
        }
      ]
    },
    {
      "cell_type": "code",
      "metadata": {
        "id": "3Eoz45HkXaHA",
        "colab_type": "code",
        "colab": {}
      },
      "source": [
        "import bs4\n",
        "import pandas\n",
        "import requests"
      ],
      "execution_count": null,
      "outputs": []
    },
    {
      "cell_type": "code",
      "metadata": {
        "id": "uC25ssvpXfee",
        "colab_type": "code",
        "colab": {}
      },
      "source": [
        "url = 'https://www.theonion.com/latest'\n",
        "def get_page_content(url):\n",
        "   page = requests.get(url,headers={\"Accept-Language\":\"en-US\"})\n",
        "   return bs4.BeautifulSoup(page.text,\"html.parser\")\n",
        "soup = get_page_content(url)\n",
        "\n",
        "\n",
        "titles = []\n",
        "article_link = []\n",
        "count = 0\n",
        "while(count < 1500):\n",
        "  soup = get_page_content(url)\n",
        "  #Lấy đường title cho mỗi bài báo\n",
        "  articles = soup.findAll('h2', class_=\"sc-759qgu-0 cYlVdn cw4lnv-6 eXwNRE\")\n",
        "\n",
        "  titles += [str(article.text) for article in articles]\n",
        "\n",
        "  # Lấy đường link tương ứng cho mỗi article\n",
        "  articles = soup.find_all('a', class_=\"sc-1out364-0 hMndXN js_link\")\n",
        "\n",
        "  for article in articles:\n",
        "    h2_element = article.find('h2', class_=\"sc-759qgu-0 cYlVdn cw4lnv-6 eXwNRE\")\n",
        "    if h2_element:\n",
        "      article_link.append(article['href'])\n",
        "  # Lấy đường url cho page tiếp theo\n",
        "  for article in articles:\n",
        "    if article.find('button'):\n",
        "      url = 'https://politics.theonion.com/' + article['href']\n",
        "\n",
        "  count = len(titles)\n",
        "\n",
        "is_sarcastic = [ 1 for _ in range(len(titles))]\n",
        "my_dataset = pandas.DataFrame({'is_sarcastic': is_sarcastic,\n",
        "    'titles':titles, \n",
        "    'article_link': article_link})\n"
      ],
      "execution_count": null,
      "outputs": []
    },
    {
      "cell_type": "code",
      "metadata": {
        "id": "c6IMV2Xzez43",
        "colab_type": "code",
        "colab": {}
      },
      "source": [
        "my_dataset.to_csv(\"onion_titles.csv\")"
      ],
      "execution_count": null,
      "outputs": []
    }
  ]
}