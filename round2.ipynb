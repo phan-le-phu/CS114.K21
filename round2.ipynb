{
  "nbformat": 4,
  "nbformat_minor": 0,
  "metadata": {
    "colab": {
      "name": "round2.ipynb",
      "provenance": [],
      "toc_visible": true,
      "authorship_tag": "ABX9TyNuI1sd44pnX/t79XevIjva",
      "include_colab_link": true
    },
    "kernelspec": {
      "name": "python3",
      "display_name": "Python 3"
    }
  },
  "cells": [
    {
      "cell_type": "markdown",
      "metadata": {
        "id": "view-in-github",
        "colab_type": "text"
      },
      "source": [
        "<a href=\"https://colab.research.google.com/github/phan-le-phu/CS114.K21/blob/master/round2.ipynb\" target=\"_parent\"><img src=\"https://colab.research.google.com/assets/colab-badge.svg\" alt=\"Open In Colab\"/></a>"
      ]
    },
    {
      "cell_type": "code",
      "metadata": {
        "id": "nefZm_0yq-Br",
        "colab_type": "code",
        "colab": {}
      },
      "source": [
        "# Load libraries\n",
        "import math\n",
        "import numpy as np\n",
        "import matplotlib.pyplot as plt\n",
        "import pandas as pd\n",
        "from sklearn.model_selection import train_test_split\n",
        "from sklearn import linear_model\n",
        "from sklearn.metrics import mean_squared_error, r2_score\n"
      ],
      "execution_count": 0,
      "outputs": []
    },
    {
      "cell_type": "markdown",
      "metadata": {
        "id": "o1IPQVfwthKD",
        "colab_type": "text"
      },
      "source": [
        "# Load dữ liệu trực tiếp từ đường dẫn http://cs.uit.edu.vn/data2.txt bằng cách sử dụng hàm read_csv của thư viện pandas thu được tập dataset là một dataframe có hai cột dự liệu được đặt tên tương ứng với cột thứ nhất là *sizes* và cột thứ hai tên tương ứng là times. Trong đó sizes chính là feature còn times là label. Ứng vỗi mỗi giá trị có trong cột sizes thì có giá trị kệt quả trong cột times"
      ]
    },
    {
      "cell_type": "code",
      "metadata": {
        "id": "tlQDgTHBrD9S",
        "colab_type": "code",
        "colab": {}
      },
      "source": [
        "# Load dataset\n",
        "url = \"http://cs.uit.edu.vn/data2.txt\"\n",
        "names = ['sizes', 'times']\n",
        "dataset = pd.read_csv(url, names=names)"
      ],
      "execution_count": 0,
      "outputs": []
    },
    {
      "cell_type": "code",
      "metadata": {
        "id": "EpFPvIHzrdjM",
        "colab_type": "code",
        "outputId": "e69e0852-0705-4ea1-d6c9-fbd98dc151cc",
        "colab": {
          "base_uri": "https://localhost:8080/",
          "height": 34
        }
      },
      "source": [
        "# shape\n",
        "print(dataset.shape)"
      ],
      "execution_count": 17,
      "outputs": [
        {
          "output_type": "stream",
          "text": [
            "(71115, 2)\n"
          ],
          "name": "stdout"
        }
      ]
    },
    {
      "cell_type": "code",
      "metadata": {
        "id": "H_zvp1u6rgyW",
        "colab_type": "code",
        "outputId": "0e58fb3b-5a08-4274-d68b-000032801cd3",
        "colab": {
          "base_uri": "https://localhost:8080/",
          "height": 374
        }
      },
      "source": [
        "# head\n",
        "print(dataset.head(20))"
      ],
      "execution_count": 18,
      "outputs": [
        {
          "output_type": "stream",
          "text": [
            "      sizes     times\n",
            "0   6083695  0.521842\n",
            "1   1954367  0.152648\n",
            "2   3734185  0.298548\n",
            "3   5839301  0.460480\n",
            "4   6343427  0.527977\n",
            "5   1355574  0.098012\n",
            "6    725488  0.048238\n",
            "7   1191887  0.089304\n",
            "8   4556292  0.378561\n",
            "9   9989596  0.832734\n",
            "10  7698040  0.647709\n",
            "11  1690816  0.123954\n",
            "12  4414398  0.341109\n",
            "13  6999006  0.553852\n",
            "14  8011311  0.641649\n",
            "15  7988686  0.643173\n",
            "16  8924801  0.718659\n",
            "17  6212110  0.491007\n",
            "18  5195238  0.399880\n",
            "19  7820803  0.622873\n"
          ],
          "name": "stdout"
        }
      ]
    },
    {
      "cell_type": "code",
      "metadata": {
        "id": "421jwBIrrj-6",
        "colab_type": "code",
        "outputId": "3ace9780-7f54-4f4e-f93e-400066a4b5ca",
        "colab": {
          "base_uri": "https://localhost:8080/",
          "height": 170
        }
      },
      "source": [
        "# descriptions\n",
        "print(dataset.describe())"
      ],
      "execution_count": 19,
      "outputs": [
        {
          "output_type": "stream",
          "text": [
            "              sizes         times\n",
            "count  7.111500e+04  71115.000000\n",
            "mean   4.998766e+06      0.406785\n",
            "std    2.882618e+06      0.244039\n",
            "min    2.550000e+02      0.000009\n",
            "25%    2.496521e+06      0.192746\n",
            "50%    5.010144e+06      0.403410\n",
            "75%    7.481742e+06      0.616155\n",
            "max    9.999882e+06      0.983776\n"
          ],
          "name": "stdout"
        }
      ]
    },
    {
      "cell_type": "code",
      "metadata": {
        "id": "AWSfSrklrtYh",
        "colab_type": "code",
        "outputId": "9eed7e0f-5d36-4b57-eaf8-dad81406bc61",
        "colab": {
          "base_uri": "https://localhost:8080/",
          "height": 187
        }
      },
      "source": [
        "print(dataset.info())"
      ],
      "execution_count": 20,
      "outputs": [
        {
          "output_type": "stream",
          "text": [
            "<class 'pandas.core.frame.DataFrame'>\n",
            "RangeIndex: 71115 entries, 0 to 71114\n",
            "Data columns (total 2 columns):\n",
            " #   Column  Non-Null Count  Dtype  \n",
            "---  ------  --------------  -----  \n",
            " 0   sizes   71115 non-null  int64  \n",
            " 1   times   71115 non-null  float64\n",
            "dtypes: float64(1), int64(1)\n",
            "memory usage: 1.1 MB\n",
            "None\n"
          ],
          "name": "stdout"
        }
      ]
    },
    {
      "cell_type": "code",
      "metadata": {
        "id": "Tcw1GKMMrv0u",
        "colab_type": "code",
        "outputId": "3376e2f6-f46c-4cda-d0ed-f16545fbb765",
        "colab": {
          "base_uri": "https://localhost:8080/",
          "height": 278
        }
      },
      "source": [
        "plt.scatter(dataset[\"sizes\"],dataset[\"times\"])\n",
        "plt.show()\n"
      ],
      "execution_count": 21,
      "outputs": [
        {
          "output_type": "display_data",
          "data": {
            "image/png": "[encoded data removed]",
            "text/plain": [
              "<Figure size 432x288 with 1 Axes>"
            ]
          },
          "metadata": {
            "tags": [],
            "needs_background": "light"
          }
        }
      ]
    },
    {
      "cell_type": "markdown",
      "metadata": {
        "id": "AykxiNISt3Jl",
        "colab_type": "text"
      },
      "source": [
        "# Chia dữ liệu thành hai phần train dataset và test dataset"
      ]
    },
    {
      "cell_type": "code",
      "metadata": {
        "id": "G38MtXovr1R8",
        "colab_type": "code",
        "colab": {}
      },
      "source": [
        "X_train, X_test, Y_train, Y_test = train_test_split(dataset[\"sizes\"], dataset[\"times\"], test_size = 0.2)\n",
        "X_train = X_train.values.reshape(-1, 1)\n",
        "X_test = X_test.values.reshape(-1, 1)\n",
        "Y_train = Y_train.values.reshape(-1, 1)\n",
        "Y_test = Y_test.values.reshape(-1, 1)\n"
      ],
      "execution_count": 0,
      "outputs": []
    },
    {
      "cell_type": "markdown",
      "metadata": {
        "id": "qTLi8r1_uCgB",
        "colab_type": "text"
      },
      "source": [
        "# Vì đây là bài toán regression nên chọn model regression từ thư viện skleran và train model bằng tập dự liệu train dataset (X_train, Y_train)"
      ]
    },
    {
      "cell_type": "code",
      "metadata": {
        "id": "bCqzgAppr_P-",
        "colab_type": "code",
        "outputId": "e6c7ccb9-cfaa-48a6-a865-94129f80d7de",
        "colab": {
          "base_uri": "https://localhost:8080/",
          "height": 34
        }
      },
      "source": [
        "my_model =  linear_model.LinearRegression()\n",
        "my_model.fit(X_train, Y_train)"
      ],
      "execution_count": 23,
      "outputs": [
        {
          "output_type": "execute_result",
          "data": {
            "text/plain": [
              "LinearRegression(copy_X=True, fit_intercept=True, n_jobs=None, normalize=False)"
            ]
          },
          "metadata": {
            "tags": []
          },
          "execution_count": 23
        }
      ]
    },
    {
      "cell_type": "markdown",
      "metadata": {
        "id": "oYq-SQWnAue5",
        "colab_type": "text"
      },
      "source": [
        "# đánh giá model bằng cách sử dụng tập dữ liệu X_test nhận được kết quả dự đoán Y_pred. Đem so sánh kết quả dự đoán thu được là Y_pred với tập dự liệu Y_test. Nhận thấy Mean squared error: 0.00014 và R^2 = 1 nên đánh giá model khá là đáng tin cậy"
      ]
    },
    {
      "cell_type": "code",
      "metadata": {
        "id": "YrsVfhTRsR9P",
        "colab_type": "code",
        "colab": {}
      },
      "source": [
        "Y_pred = my_model.predict(X_test)"
      ],
      "execution_count": 0,
      "outputs": []
    },
    {
      "cell_type": "code",
      "metadata": {
        "id": "vaSpntFxsMFF",
        "colab_type": "code",
        "outputId": "54def312-4fe9-4c27-99b0-dcfce19818ff",
        "colab": {
          "base_uri": "https://localhost:8080/",
          "height": 85
        }
      },
      "source": [
        "# The coefficients\n",
        "print('Coefficients: \\n', my_model.coef_)\n",
        "# The mean squared error\n",
        "print('Mean squared error: %.20f'\n",
        "      % mean_squared_error(Y_test, Y_pred))\n",
        "# The coefficient of determination: 1 is perfect prediction\n",
        "print('Coefficient of determination: %.2f'\n",
        "      % r2_score(Y_test, Y_pred))"
      ],
      "execution_count": 25,
      "outputs": [
        {
          "output_type": "stream",
          "text": [
            "Coefficients: \n",
            " [[8.4561609e-08]]\n",
            "Mean squared error: 0.00013943059761310344\n",
            "Coefficient of determination: 1.00\n"
          ],
          "name": "stdout"
        }
      ]
    },
    {
      "cell_type": "code",
      "metadata": {
        "id": "Z9r3-PMvsXoE",
        "colab_type": "code",
        "outputId": "0535f46b-c4bf-4af0-c946-6b9dd64d08f3",
        "colab": {
          "base_uri": "https://localhost:8080/",
          "height": 252
        }
      },
      "source": [
        "plt.scatter(X_test, Y_test,  color='blue')\n",
        "plt.plot(X_test, Y_pred, color='yellow', linewidth=3)\n",
        "\n",
        "plt.xticks(())\n",
        "plt.yticks(())\n",
        "\n",
        "plt.show()"
      ],
      "execution_count": 26,
      "outputs": [
        {
          "output_type": "display_data",
          "data": {
            "image/png": "[encoded data removed]",
            "text/plain": [
              "<Figure size 432x288 with 1 Axes>"
            ]
          },
          "metadata": {
            "tags": []
          }
        }
      ]
    },
    {
      "cell_type": "markdown",
      "metadata": {
        "id": "ba5N-1j7vTaU",
        "colab_type": "text"
      },
      "source": [
        "# Ứng dụng dùng để thực hiện predict một mẩu dữ liệu mới. Yêu cấu người dùng nhập vào bao giá trị cần kiểm tra. Sau đó chương trinh sẻ yêu câu người dùng nhập lần lượt từng giá trị một và xuất ra kết quả dự đoán cho giá trị đó.\n"
      ]
    },
    {
      "cell_type": "code",
      "metadata": {
        "id": "OE-J2dlnvSX2",
        "colab_type": "code",
        "outputId": "fa51e08c-c6a4-4f17-c620-9bbfa89ecc4b",
        "colab": {
          "base_uri": "https://localhost:8080/",
          "height": 204
        }
      },
      "source": [
        "print(\"Số mẫu thử :\")\n",
        "for i in range(int(input())):\n",
        "  print(\"Nhập giá trị thứ {}:\".format(i))\n",
        "  print(\"--> %.20f\" % my_model.predict(np.array([int(input())]).reshape(1, -1)))\n"
      ],
      "execution_count": 27,
      "outputs": [
        {
          "output_type": "stream",
          "text": [
            "Số mẫu thử :\n",
            "3\n",
            "Nhập giá trị thứ 0:\n",
            "1214\n",
            "--> -0.01580602403837544356\n",
            "Nhập giá trị thứ 1:\n",
            "31241\n",
            "--> -0.01326689260599599879\n",
            "Nhập giá trị thứ 2:\n",
            "123123\n",
            "--> -0.00549720285111245793\n"
          ],
          "name": "stdout"
        }
      ]
    },
    {
      "cell_type": "markdown",
      "metadata": {
        "id": "KA-EL5lmLBOX",
        "colab_type": "text"
      },
      "source": [
        "# save lại model "
      ]
    },
    {
      "cell_type": "code",
      "metadata": {
        "id": "Sid0mHzaLBC5",
        "colab_type": "code",
        "outputId": "1dd5dcd0-337c-467b-845f-08d36bfca4fb",
        "colab": {
          "base_uri": "https://localhost:8080/",
          "height": 122
        }
      },
      "source": [
        "from google.colab import drive\n",
        "drive.mount('/content/gdrive')"
      ],
      "execution_count": 28,
      "outputs": [
        {
          "output_type": "stream",
          "text": [
            "Go to this URL in a browser: https://accounts.google.com/o/oauth2/auth?client_id=947318989803-6bn6qk8qdgf4n4g3pfee6491hc0brc4i.apps.googleusercontent.com&redirect_uri=urn%3aietf%3awg%3aoauth%3a2.0%3aoob&response_type=code&scope=email%20https%3a%2f%2fwww.googleapis.com%2fauth%2fdocs.test%20https%3a%2f%2fwww.googleapis.com%2fauth%2fdrive%20https%3a%2f%2fwww.googleapis.com%2fauth%2fdrive.photos.readonly%20https%3a%2f%2fwww.googleapis.com%2fauth%2fpeopleapi.readonly\n",
            "\n",
            "Enter your authorization code:\n",
            "··········\n",
            "Mounted at /content/gdrive\n"
          ],
          "name": "stdout"
        }
      ]
    },
    {
      "cell_type": "code",
      "metadata": {
        "id": "DughmOl-TX24",
        "colab_type": "code",
        "colab": {}
      },
      "source": [
        "import torch\n",
        "model_save_name = 'round2_model.pt'\n",
        "path = F\"/content/gdrive/My Drive/{model_save_name}\" \n",
        "torch.save(my_model, path)"
      ],
      "execution_count": 0,
      "outputs": []
    }
  ]
}