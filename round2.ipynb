{
  "nbformat": 4,
  "nbformat_minor": 0,
  "metadata": {
    "colab": {
      "name": "round2.ipynb",
      "provenance": [],
      "toc_visible": true,
      "authorship_tag": "ABX9TyNZHwwa/pzJAFsBEIZX61Pq",
      "include_colab_link": true
    },
    "kernelspec": {
      "name": "python3",
      "display_name": "Python 3"
    }
  },
  "cells": [
    {
      "cell_type": "markdown",
      "metadata": {
        "id": "view-in-github",
        "colab_type": "text"
      },
      "source": [
        "<a href=\"https://colab.research.google.com/github/phan-le-phu/CS114.K21/blob/master/round2.ipynb\" target=\"_parent\"><img src=\"https://colab.research.google.com/assets/colab-badge.svg\" alt=\"Open In Colab\"/></a>"
      ]
    },
    {
      "cell_type": "code",
      "metadata": {
        "id": "nefZm_0yq-Br",
        "colab_type": "code",
        "colab": {}
      },
      "source": [
        "# Load libraries\n",
        "import math\n",
        "import numpy as np\n",
        "import matplotlib.pyplot as plt\n",
        "import pandas as pd\n",
        "from sklearn.model_selection import train_test_split\n",
        "from sklearn import linear_model\n",
        "from sklearn.metrics import mean_squared_error, r2_score\n"
      ],
      "execution_count": 0,
      "outputs": []
    },
    {
      "cell_type": "markdown",
      "metadata": {
        "id": "o1IPQVfwthKD",
        "colab_type": "text"
      },
      "source": [
        "# Load dữ liệu trực tiếp từ đường dẫn http://cs.uit.edu.vn/data2.txt bằng cách sử dụng hàm read_csv của thư viện pandas thu được tập dataset là một dataframe có hai cột dự liệu được đặt tên tương ứng với cột thứ nhất là *sizes* và cột thứ hai tên tương ứng là times. Trong đó sizes chính là feature còn times là label. Ứng vỗi mỗi giá trị có trong cột sizes thì có giá trị kệt quả trong cột times"
      ]
    },
    {
      "cell_type": "code",
      "metadata": {
        "id": "tlQDgTHBrD9S",
        "colab_type": "code",
        "colab": {}
      },
      "source": [
        "# Load dataset\n",
        "url = \"http://cs.uit.edu.vn/data2.txt\"\n",
        "names = ['sizes', 'times']\n",
        "dataset = pd.read_csv(url, names=names)"
      ],
      "execution_count": 0,
      "outputs": []
    },
    {
      "cell_type": "code",
      "metadata": {
        "id": "EpFPvIHzrdjM",
        "colab_type": "code",
        "outputId": "f0a1fd65-bc90-4789-cdf2-16fd10146895",
        "colab": {
          "base_uri": "https://localhost:8080/",
          "height": 34
        }
      },
      "source": [
        "# shape\n",
        "print(dataset.shape)"
      ],
      "execution_count": 3,
      "outputs": [
        {
          "output_type": "stream",
          "text": [
            "(71115, 2)\n"
          ],
          "name": "stdout"
        }
      ]
    },
    {
      "cell_type": "code",
      "metadata": {
        "id": "H_zvp1u6rgyW",
        "colab_type": "code",
        "outputId": "7dbfde79-e858-45e5-e7ba-9872352ea7f6",
        "colab": {
          "base_uri": "https://localhost:8080/",
          "height": 374
        }
      },
      "source": [
        "# head\n",
        "print(dataset.head(20))"
      ],
      "execution_count": 4,
      "outputs": [
        {
          "output_type": "stream",
          "text": [
            "      sizes     times\n",
            "0   6083695  0.521842\n",
            "1   1954367  0.152648\n",
            "2   3734185  0.298548\n",
            "3   5839301  0.460480\n",
            "4   6343427  0.527977\n",
            "5   1355574  0.098012\n",
            "6    725488  0.048238\n",
            "7   1191887  0.089304\n",
            "8   4556292  0.378561\n",
            "9   9989596  0.832734\n",
            "10  7698040  0.647709\n",
            "11  1690816  0.123954\n",
            "12  4414398  0.341109\n",
            "13  6999006  0.553852\n",
            "14  8011311  0.641649\n",
            "15  7988686  0.643173\n",
            "16  8924801  0.718659\n",
            "17  6212110  0.491007\n",
            "18  5195238  0.399880\n",
            "19  7820803  0.622873\n"
          ],
          "name": "stdout"
        }
      ]
    },
    {
      "cell_type": "code",
      "metadata": {
        "id": "421jwBIrrj-6",
        "colab_type": "code",
        "outputId": "6eb82421-7832-4704-d4e0-ba8c77ca9c00",
        "colab": {
          "base_uri": "https://localhost:8080/",
          "height": 170
        }
      },
      "source": [
        "# descriptions\n",
        "print(dataset.describe())"
      ],
      "execution_count": 5,
      "outputs": [
        {
          "output_type": "stream",
          "text": [
            "              sizes         times\n",
            "count  7.111500e+04  71115.000000\n",
            "mean   4.998766e+06      0.406785\n",
            "std    2.882618e+06      0.244039\n",
            "min    2.550000e+02      0.000009\n",
            "25%    2.496521e+06      0.192746\n",
            "50%    5.010144e+06      0.403410\n",
            "75%    7.481742e+06      0.616155\n",
            "max    9.999882e+06      0.983776\n"
          ],
          "name": "stdout"
        }
      ]
    },
    {
      "cell_type": "code",
      "metadata": {
        "id": "AWSfSrklrtYh",
        "colab_type": "code",
        "outputId": "6fdcf75f-d9db-4542-c326-33c5e8204dec",
        "colab": {
          "base_uri": "https://localhost:8080/",
          "height": 187
        }
      },
      "source": [
        "print(dataset.info())"
      ],
      "execution_count": 6,
      "outputs": [
        {
          "output_type": "stream",
          "text": [
            "<class 'pandas.core.frame.DataFrame'>\n",
            "RangeIndex: 71115 entries, 0 to 71114\n",
            "Data columns (total 2 columns):\n",
            " #   Column  Non-Null Count  Dtype  \n",
            "---  ------  --------------  -----  \n",
            " 0   sizes   71115 non-null  int64  \n",
            " 1   times   71115 non-null  float64\n",
            "dtypes: float64(1), int64(1)\n",
            "memory usage: 1.1 MB\n",
            "None\n"
          ],
          "name": "stdout"
        }
      ]
    },
    {
      "cell_type": "code",
      "metadata": {
        "id": "Tcw1GKMMrv0u",
        "colab_type": "code",
        "outputId": "9d24ac36-1145-4ddc-814f-618f7b22505c",
        "colab": {
          "base_uri": "https://localhost:8080/",
          "height": 278
        }
      },
      "source": [
        "plt.scatter(dataset[\"sizes\"],dataset[\"times\"])\n",
        "plt.show()\n"
      ],
      "execution_count": 7,
      "outputs": [
        {
          "output_type": "display_data",
          "data": {
            "image/png": "[encoded data removed]",
            "text/plain": [
              "<Figure size 432x288 with 1 Axes>"
            ]
          },
          "metadata": {
            "tags": [],
            "needs_background": "light"
          }
        }
      ]
    },
    {
      "cell_type": "markdown",
      "metadata": {
        "id": "AykxiNISt3Jl",
        "colab_type": "text"
      },
      "source": [
        "# Chia dữ liệu thành hai phần train dataset và test dataset"
      ]
    },
    {
      "cell_type": "code",
      "metadata": {
        "id": "G38MtXovr1R8",
        "colab_type": "code",
        "colab": {}
      },
      "source": [
        "X_train, X_test, Y_train, Y_test = train_test_split(dataset[\"sizes\"], dataset[\"times\"], test_size = 0.2)\n",
        "X_train = X_train.values.reshape(-1, 1)\n",
        "X_test = X_test.values.reshape(-1, 1)\n",
        "Y_train = Y_train.values.reshape(-1, 1)\n",
        "Y_test = Y_test.values.reshape(-1, 1)\n"
      ],
      "execution_count": 0,
      "outputs": []
    },
    {
      "cell_type": "markdown",
      "metadata": {
        "id": "qTLi8r1_uCgB",
        "colab_type": "text"
      },
      "source": [
        "# Vì đây là bài toán regression nên chọn model regression từ thư viện skleran và train model bằng tập dự liệu train dataset (X_train, Y_train)"
      ]
    },
    {
      "cell_type": "code",
      "metadata": {
        "id": "bCqzgAppr_P-",
        "colab_type": "code",
        "outputId": "a1d64b71-eed7-4c67-9cb1-6c30bf76fd2a",
        "colab": {
          "base_uri": "https://localhost:8080/",
          "height": 34
        }
      },
      "source": [
        "my_model =  linear_model.LinearRegression()\n",
        "my_model.fit(X_train, Y_train)"
      ],
      "execution_count": 9,
      "outputs": [
        {
          "output_type": "execute_result",
          "data": {
            "text/plain": [
              "LinearRegression(copy_X=True, fit_intercept=True, n_jobs=None, normalize=False)"
            ]
          },
          "metadata": {
            "tags": []
          },
          "execution_count": 9
        }
      ]
    },
    {
      "cell_type": "markdown",
      "metadata": {
        "id": "oYq-SQWnAue5",
        "colab_type": "text"
      },
      "source": [
        "# đánh giá model bằng cách sử dụng tập dữ liệu X_test nhận được kết quả dự đoán Y_pred. Đem so sánh kết quả dự đoán thu được là Y_pred với tập dự liệu Y_test. Nhận thấy Mean squared error: 0.00014 và R^2 = 1 nên đánh giá model khá là đáng tin cậy"
      ]
    },
    {
      "cell_type": "code",
      "metadata": {
        "id": "YrsVfhTRsR9P",
        "colab_type": "code",
        "colab": {}
      },
      "source": [
        "Y_pred = my_model.predict(X_test)"
      ],
      "execution_count": 0,
      "outputs": []
    },
    {
      "cell_type": "code",
      "metadata": {
        "id": "vaSpntFxsMFF",
        "colab_type": "code",
        "outputId": "5beb9cc0-c2f3-4a17-e139-0c255b5fd5c7",
        "colab": {
          "base_uri": "https://localhost:8080/",
          "height": 85
        }
      },
      "source": [
        "# The coefficients\n",
        "print('Coefficients: \\n', my_model.coef_)\n",
        "# The mean squared error\n",
        "print('Mean squared error: %.20f'\n",
        "      % mean_squared_error(Y_test, Y_pred))\n",
        "# The coefficient of determination: 1 is perfect prediction\n",
        "print('Coefficient of determination: %.2f'\n",
        "      % r2_score(Y_test, Y_pred))"
      ],
      "execution_count": 11,
      "outputs": [
        {
          "output_type": "stream",
          "text": [
            "Coefficients: \n",
            " [[8.45452209e-08]]\n",
            "Mean squared error: 0.00014183325033850682\n",
            "Coefficient of determination: 1.00\n"
          ],
          "name": "stdout"
        }
      ]
    },
    {
      "cell_type": "code",
      "metadata": {
        "id": "Z9r3-PMvsXoE",
        "colab_type": "code",
        "outputId": "39c554f5-8150-44f1-b910-697e5ccd0358",
        "colab": {
          "base_uri": "https://localhost:8080/",
          "height": 252
        }
      },
      "source": [
        "plt.scatter(X_test, Y_test,  color='blue')\n",
        "plt.plot(X_test, Y_pred, color='yellow', linewidth=3)\n",
        "\n",
        "plt.xticks(())\n",
        "plt.yticks(())\n",
        "\n",
        "plt.show()"
      ],
      "execution_count": 12,
      "outputs": [
        {
          "output_type": "display_data",
          "data": {
            "image/png": "[encoded data removed]",
            "text/plain": [
              "<Figure size 432x288 with 1 Axes>"
            ]
          },
          "metadata": {
            "tags": []
          }
        }
      ]
    },
    {
      "cell_type": "markdown",
      "metadata": {
        "id": "ba5N-1j7vTaU",
        "colab_type": "text"
      },
      "source": [
        "# Ứng dụng dùng để thực hiện predict một mẩu dữ liệu mới. Yêu cấu người dùng nhập vào bao giá trị cần kiểm tra. Sau đó chương trinh sẻ yêu câu người dùng nhập lần lượt từng giá trị một và xuất ra kết quả dự đoán cho giá trị đó.\n"
      ]
    },
    {
      "cell_type": "code",
      "metadata": {
        "id": "OE-J2dlnvSX2",
        "colab_type": "code",
        "outputId": "12295e8e-47e8-4227-d26e-cfcd79990abe",
        "colab": {
          "base_uri": "https://localhost:8080/",
          "height": 204
        }
      },
      "source": [
        "print(\"Số mẫu thử :\")\n",
        "for i in range(int(input())):\n",
        "  print(\"Nhập giá trị thứ {}:\".format(i))\n",
        "  print(\"--> %.20f\" % my_model.predict(np.array([int(input())]).reshape(1, -1)))\n"
      ],
      "execution_count": 13,
      "outputs": [
        {
          "output_type": "stream",
          "text": [
            "Số mẫu thử :\n",
            "3\n",
            "Nhập giá trị thứ 0:\n",
            "123145\n",
            "--> -0.00544882494284528937\n",
            "Nhập giá trị thứ 1:\n",
            "21314151\n",
            "--> 1.78614945821681825322\n",
            "Nhập giá trị thứ 2:\n",
            "1321413\n",
            "--> 0.09585900780304529301\n"
          ],
          "name": "stdout"
        }
      ]
    },
    {
      "cell_type": "markdown",
      "metadata": {
        "id": "KA-EL5lmLBOX",
        "colab_type": "text"
      },
      "source": [
        "# save lại model "
      ]
    },
    {
      "cell_type": "code",
      "metadata": {
        "id": "Sid0mHzaLBC5",
        "colab_type": "code",
        "outputId": "fe13944a-43db-424d-f051-c2a257c6a63c",
        "colab": {
          "base_uri": "https://localhost:8080/",
          "height": 34
        }
      },
      "source": [
        "import joblib\n",
        "filename = 'round2_model.joblib'\n",
        "joblib.dump(my_model, filename)"
      ],
      "execution_count": 14,
      "outputs": [
        {
          "output_type": "execute_result",
          "data": {
            "text/plain": [
              "['round2_model.joblib']"
            ]
          },
          "metadata": {
            "tags": []
          },
          "execution_count": 14
        }
      ]
    }
  ]
}