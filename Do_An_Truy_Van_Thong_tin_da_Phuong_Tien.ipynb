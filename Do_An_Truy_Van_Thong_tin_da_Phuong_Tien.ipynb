{
  "nbformat": 4,
  "nbformat_minor": 0,
  "metadata": {
    "colab": {
      "name": "Do_An_Truy_Van_Thong_tin_da_Phuong_Tien.ipynb",
      "provenance": [],
      "toc_visible": true,
      "authorship_tag": "ABX9TyMLConi1Zx0L81PKd9NElYy",
      "include_colab_link": true
    },
    "kernelspec": {
      "name": "python3",
      "display_name": "Python 3"
    }
  },
  "cells": [
    {
      "cell_type": "markdown",
      "metadata": {
        "id": "view-in-github",
        "colab_type": "text"
      },
      "source": [
        "<a href=\"https://colab.research.google.com/github/phan-le-phu/CS114.K21/blob/master/Do_An_Truy_Van_Thong_tin_da_Phuong_Tien.ipynb\" target=\"_parent\"><img src=\"https://colab.research.google.com/assets/colab-badge.svg\" alt=\"Open In Colab\"/></a>"
      ]
    },
    {
      "cell_type": "code",
      "metadata": {
        "id": "gr6p4iSMUMsS"
      },
      "source": [
        "import pandas as pd\r\n",
        "from sklearn.model_selection import train_test_split\r\n",
        "from sklearn.feature_extraction.text import TfidfVectorizer\r\n",
        "from sklearn.metrics import confusion_matrix\r\n",
        "from sklearn.svm import LinearSVC\r\n",
        "from sklearn.model_selection import cross_val_score\r\n",
        "from sklearn.naive_bayes import GaussianNB\r\n",
        "from sklearn.linear_model import LogisticRegression\r\n",
        "from sklearn.ensemble import RandomForestClassifier\r\n",
        "from sklearn import svm"
      ],
      "execution_count": 137,
      "outputs": []
    },
    {
      "cell_type": "markdown",
      "metadata": {
        "id": "mp-LVimj-Zg2"
      },
      "source": [
        "## Tiền xử lý dữ liệu văn bản"
      ]
    },
    {
      "cell_type": "markdown",
      "metadata": {
        "id": "ade-VLD1-gwv"
      },
      "source": [
        "1. **Chuẩn hóa Unicode tiếng việt**\r\n",
        "\r\n"
      ]
    },
    {
      "cell_type": "code",
      "metadata": {
        "colab": {
          "base_uri": "https://localhost:8080/"
        },
        "id": "lNsbXKm69267",
        "outputId": "edac64dd-7d67-4030-e1af-2a2b0f73c1e6"
      },
      "source": [
        "#unicode vs unocode tổ hợp\r\n",
        "'phú' == 'phú'"
      ],
      "execution_count": 21,
      "outputs": [
        {
          "output_type": "execute_result",
          "data": {
            "text/plain": [
              "False"
            ]
          },
          "metadata": {
            "tags": []
          },
          "execution_count": 21
        }
      ]
    },
    {
      "cell_type": "code",
      "metadata": {
        "id": "p81gQRaQHMNE"
      },
      "source": [
        "import regex as re\r\n",
        "def loaddicchar():\r\n",
        "    dic = {}\r\n",
        "    char1252 = 'à|á|ả|ã|ạ|ầ|ấ|ẩ|ẫ|ậ|ằ|ắ|ẳ|ẵ|ặ|è|é|ẻ|ẽ|ẹ|ề|ế|ể|ễ|ệ|ì|í|ỉ|ĩ|ị|ò|ó|ỏ|õ|ọ|ồ|ố|ổ|ỗ|ộ|ờ|ớ|ở|ỡ|ợ|ù|ú|ủ|ũ|ụ|ừ|ứ|ử|ữ|ự|ỳ|ý|ỷ|ỹ|ỵ|À|Á|Ả|Ã|Ạ|Ầ|Ấ|Ẩ|Ẫ|Ậ|Ằ|Ắ|Ẳ|Ẵ|Ặ|È|É|Ẻ|Ẽ|Ẹ|Ề|Ế|Ể|Ễ|Ệ|Ì|Í|Ỉ|Ĩ|Ị|Ò|Ó|Ỏ|Õ|Ọ|Ồ|Ố|Ổ|Ỗ|Ộ|Ờ|Ớ|Ở|Ỡ|Ợ|Ù|Ú|Ủ|Ũ|Ụ|Ừ|Ứ|Ử|Ữ|Ự|Ỳ|Ý|Ỷ|Ỹ|Ỵ'.split(\r\n",
        "        '|')\r\n",
        "    charutf8 = \"à|á|ả|ã|ạ|ầ|ấ|ẩ|ẫ|ậ|ằ|ắ|ẳ|ẵ|ặ|è|é|ẻ|ẽ|ẹ|ề|ế|ể|ễ|ệ|ì|í|ỉ|ĩ|ị|ò|ó|ỏ|õ|ọ|ồ|ố|ổ|ỗ|ộ|ờ|ớ|ở|ỡ|ợ|ù|ú|ủ|ũ|ụ|ừ|ứ|ử|ữ|ự|ỳ|ý|ỷ|ỹ|ỵ|À|Á|Ả|Ã|Ạ|Ầ|Ấ|Ẩ|Ẫ|Ậ|Ằ|Ắ|Ẳ|Ẵ|Ặ|È|É|Ẻ|Ẽ|Ẹ|Ề|Ế|Ể|Ễ|Ệ|Ì|Í|Ỉ|Ĩ|Ị|Ò|Ó|Ỏ|Õ|Ọ|Ồ|Ố|Ổ|Ỗ|Ộ|Ờ|Ớ|Ở|Ỡ|Ợ|Ù|Ú|Ủ|Ũ|Ụ|Ừ|Ứ|Ử|Ữ|Ự|Ỳ|Ý|Ỷ|Ỹ|Ỵ\".split(\r\n",
        "        '|')\r\n",
        "    for i in range(len(char1252)):\r\n",
        "        dic[char1252[i]] = charutf8[i]\r\n",
        "    return dic\r\n",
        " \r\n",
        " \r\n",
        "dicchar = loaddicchar()\r\n",
        " \r\n",
        "# Đưa toàn bộ dữ liệu qua hàm này để chuẩn hóa lại\r\n",
        "def convert_unicode(txt):\r\n",
        "    return re.sub(\r\n",
        "        r'à|á|ả|ã|ạ|ầ|ấ|ẩ|ẫ|ậ|ằ|ắ|ẳ|ẵ|ặ|è|é|ẻ|ẽ|ẹ|ề|ế|ể|ễ|ệ|ì|í|ỉ|ĩ|ị|ò|ó|ỏ|õ|ọ|ồ|ố|ổ|ỗ|ộ|ờ|ớ|ở|ỡ|ợ|ù|ú|ủ|ũ|ụ|ừ|ứ|ử|ữ|ự|ỳ|ý|ỷ|ỹ|ỵ|À|Á|Ả|Ã|Ạ|Ầ|Ấ|Ẩ|Ẫ|Ậ|Ằ|Ắ|Ẳ|Ẵ|Ặ|È|É|Ẻ|Ẽ|Ẹ|Ề|Ế|Ể|Ễ|Ệ|Ì|Í|Ỉ|Ĩ|Ị|Ò|Ó|Ỏ|Õ|Ọ|Ồ|Ố|Ổ|Ỗ|Ộ|Ờ|Ớ|Ở|Ỡ|Ợ|Ù|Ú|Ủ|Ũ|Ụ|Ừ|Ứ|Ử|Ữ|Ự|Ỳ|Ý|Ỷ|Ỹ|Ỵ',\r\n",
        "        lambda x: dicchar[x.group()], txt)"
      ],
      "execution_count": 14,
      "outputs": []
    },
    {
      "cell_type": "markdown",
      "metadata": {
        "id": "FIsn598fH14L"
      },
      "source": [
        "2. **Chuẩn hóa kiểu gõ dấu**"
      ]
    },
    {
      "cell_type": "code",
      "metadata": {
        "colab": {
          "base_uri": "https://localhost:8080/"
        },
        "id": "YLdx87e3MT5s",
        "outputId": "c7172266-0380-4790-fcb6-c19aaaee96b5"
      },
      "source": [
        "'hòa' == 'hoà'"
      ],
      "execution_count": 29,
      "outputs": [
        {
          "output_type": "execute_result",
          "data": {
            "text/plain": [
              "False"
            ]
          },
          "metadata": {
            "tags": []
          },
          "execution_count": 29
        }
      ]
    },
    {
      "cell_type": "code",
      "metadata": {
        "colab": {
          "base_uri": "https://localhost:8080/"
        },
        "id": "Z5IqID4RHxOy",
        "outputId": "c20b7a24-2b5c-4b15-e505-e9b6080ff512"
      },
      "source": [
        "\r\n",
        "import regex as re\r\n",
        "\r\n",
        "\r\n",
        "\r\n",
        "bang_nguyen_am = [['a', 'à', 'á', 'ả', 'ã', 'ạ', 'a'],\r\n",
        "                  ['ă', 'ằ', 'ắ', 'ẳ', 'ẵ', 'ặ', 'aw'],\r\n",
        "                  ['â', 'ầ', 'ấ', 'ẩ', 'ẫ', 'ậ', 'aa'],\r\n",
        "                  ['e', 'è', 'é', 'ẻ', 'ẽ', 'ẹ', 'e'],\r\n",
        "                  ['ê', 'ề', 'ế', 'ể', 'ễ', 'ệ', 'ee'],\r\n",
        "                  ['i', 'ì', 'í', 'ỉ', 'ĩ', 'ị', 'i'],\r\n",
        "                  ['o', 'ò', 'ó', 'ỏ', 'õ', 'ọ', 'o'],\r\n",
        "                  ['ô', 'ồ', 'ố', 'ổ', 'ỗ', 'ộ', 'oo'],\r\n",
        "                  ['ơ', 'ờ', 'ớ', 'ở', 'ỡ', 'ợ', 'ow'],\r\n",
        "                  ['u', 'ù', 'ú', 'ủ', 'ũ', 'ụ', 'u'],\r\n",
        "                  ['ư', 'ừ', 'ứ', 'ử', 'ữ', 'ự', 'uw'],\r\n",
        "                  ['y', 'ỳ', 'ý', 'ỷ', 'ỹ', 'ỵ', 'y']]\r\n",
        "bang_ky_tu_dau = ['', 'f', 's', 'r', 'x', 'j']\r\n",
        "\r\n",
        "nguyen_am_to_ids = {}\r\n",
        "\r\n",
        "for i in range(len(bang_nguyen_am)):\r\n",
        "    for j in range(len(bang_nguyen_am[i]) - 1):\r\n",
        "        nguyen_am_to_ids[bang_nguyen_am[i][j]] = (i, j)\r\n",
        "\r\n",
        "\r\n",
        "\r\n",
        "\r\n",
        "\"\"\"\r\n",
        "    Start section: Chuyển câu văn về cách gõ dấu kiểu cũ: dùng òa úy thay oà uý\r\n",
        "    Xem tại đây: https://vi.wikipedia.org/wiki/Quy_t%E1%BA%AFc_%C4%91%E1%BA%B7t_d%E1%BA%A5u_thanh_trong_ch%E1%BB%AF_qu%E1%BB%91c_ng%E1%BB%AF\r\n",
        "\"\"\"\r\n",
        "\r\n",
        "\r\n",
        "def chuan_hoa_dau_tu_tieng_viet(word):\r\n",
        "    if not is_valid_vietnam_word(word):\r\n",
        "        return word\r\n",
        "\r\n",
        "    chars = list(word)\r\n",
        "    dau_cau = 0\r\n",
        "    nguyen_am_index = []\r\n",
        "    qu_or_gi = False\r\n",
        "    for index, char in enumerate(chars):\r\n",
        "        x, y = nguyen_am_to_ids.get(char, (-1, -1))\r\n",
        "        if x == -1:\r\n",
        "            continue\r\n",
        "        elif x == 9:  # check qu\r\n",
        "            if index != 0 and chars[index - 1] == 'q':\r\n",
        "                chars[index] = 'u'\r\n",
        "                qu_or_gi = True\r\n",
        "        elif x == 5:  # check gi\r\n",
        "            if index != 0 and chars[index - 1] == 'g':\r\n",
        "                chars[index] = 'i'\r\n",
        "                qu_or_gi = True\r\n",
        "        if y != 0:\r\n",
        "            dau_cau = y\r\n",
        "            chars[index] = bang_nguyen_am[x][0]\r\n",
        "        if not qu_or_gi or index != 1:\r\n",
        "            nguyen_am_index.append(index)\r\n",
        "    if len(nguyen_am_index) < 2:\r\n",
        "        if qu_or_gi:\r\n",
        "            if len(chars) == 2:\r\n",
        "                x, y = nguyen_am_to_ids.get(chars[1])\r\n",
        "                chars[1] = bang_nguyen_am[x][dau_cau]\r\n",
        "            else:\r\n",
        "                x, y = nguyen_am_to_ids.get(chars[2], (-1, -1))\r\n",
        "                if x != -1:\r\n",
        "                    chars[2] = bang_nguyen_am[x][dau_cau]\r\n",
        "                else:\r\n",
        "                    chars[1] = bang_nguyen_am[5][dau_cau] if chars[1] == 'i' else bang_nguyen_am[9][dau_cau]\r\n",
        "            return ''.join(chars)\r\n",
        "        return word\r\n",
        "\r\n",
        "    for index in nguyen_am_index:\r\n",
        "        x, y = nguyen_am_to_ids[chars[index]]\r\n",
        "        if x == 4 or x == 8:  # ê, ơ\r\n",
        "            chars[index] = bang_nguyen_am[x][dau_cau]\r\n",
        "            # for index2 in nguyen_am_index:\r\n",
        "            #     if index2 != index:\r\n",
        "            #         x, y = nguyen_am_to_ids[chars[index]]\r\n",
        "            #         chars[index2] = bang_nguyen_am[x][0]\r\n",
        "            return ''.join(chars)\r\n",
        "\r\n",
        "    if len(nguyen_am_index) == 2:\r\n",
        "        if nguyen_am_index[-1] == len(chars) - 1:\r\n",
        "            x, y = nguyen_am_to_ids[chars[nguyen_am_index[0]]]\r\n",
        "            chars[nguyen_am_index[0]] = bang_nguyen_am[x][dau_cau]\r\n",
        "            # x, y = nguyen_am_to_ids[chars[nguyen_am_index[1]]]\r\n",
        "            # chars[nguyen_am_index[1]] = bang_nguyen_am[x][0]\r\n",
        "        else:\r\n",
        "            # x, y = nguyen_am_to_ids[chars[nguyen_am_index[0]]]\r\n",
        "            # chars[nguyen_am_index[0]] = bang_nguyen_am[x][0]\r\n",
        "            x, y = nguyen_am_to_ids[chars[nguyen_am_index[1]]]\r\n",
        "            chars[nguyen_am_index[1]] = bang_nguyen_am[x][dau_cau]\r\n",
        "    else:\r\n",
        "        # x, y = nguyen_am_to_ids[chars[nguyen_am_index[0]]]\r\n",
        "        # chars[nguyen_am_index[0]] = bang_nguyen_am[x][0]\r\n",
        "        x, y = nguyen_am_to_ids[chars[nguyen_am_index[1]]]\r\n",
        "        chars[nguyen_am_index[1]] = bang_nguyen_am[x][dau_cau]\r\n",
        "        # x, y = nguyen_am_to_ids[chars[nguyen_am_index[2]]]\r\n",
        "        # chars[nguyen_am_index[2]] = bang_nguyen_am[x][0]\r\n",
        "    return ''.join(chars)\r\n",
        "\r\n",
        "\r\n",
        "def is_valid_vietnam_word(word):\r\n",
        "    chars = list(word)\r\n",
        "    nguyen_am_index = -1\r\n",
        "    for index, char in enumerate(chars):\r\n",
        "        x, y = nguyen_am_to_ids.get(char, (-1, -1))\r\n",
        "        if x != -1:\r\n",
        "            if nguyen_am_index == -1:\r\n",
        "                nguyen_am_index = index\r\n",
        "            else:\r\n",
        "                if index - nguyen_am_index != 1:\r\n",
        "                    return False\r\n",
        "                nguyen_am_index = index\r\n",
        "    return True\r\n",
        "\r\n",
        "\r\n",
        "def chuan_hoa_dau_cau_tieng_viet(sentence):\r\n",
        "    \"\"\"\r\n",
        "        Chuyển câu tiếng việt về chuẩn gõ dấu kiểu cũ.\r\n",
        "        :param sentence:\r\n",
        "        :return:\r\n",
        "        \"\"\"\r\n",
        "    sentence = sentence.lower()\r\n",
        "    words = sentence.split()\r\n",
        "    for index, word in enumerate(words):\r\n",
        "        cw = re.sub(r'(^\\p{P}*)([p{L}.]*\\p{L}+)(\\p{P}*$)', r'\\1/\\2/\\3', word).split('/')\r\n",
        "        # print(cw)\r\n",
        "        if len(cw) == 3:\r\n",
        "            cw[1] = chuan_hoa_dau_tu_tieng_viet(cw[1])\r\n",
        "        words[index] = ''.join(cw)\r\n",
        "    return ' '.join(words)\r\n",
        "\r\n",
        "\r\n",
        "\"\"\"\r\n",
        "    End section: Chuyển câu văn về cách gõ dấu kiểu cũ: dùng òa úy thay oà uý\r\n",
        "    Xem tại đây: https://vi.wikipedia.org/wiki/Quy_tắc_đặt_dấu_thanh_trong_chữ_quốc_ngữ\r\n",
        "\"\"\"\r\n",
        "if __name__ == '__main__':\r\n",
        "    print(chuan_hoa_dau_cau_tieng_viet('anh hoà, đang làm.. gì'))\r\n"
      ],
      "execution_count": 28,
      "outputs": [
        {
          "output_type": "stream",
          "text": [
            "anh hòa, đang làm.. gì\n"
          ],
          "name": "stdout"
        }
      ]
    },
    {
      "cell_type": "markdown",
      "metadata": {
        "id": "GRtZXEE8McDS"
      },
      "source": [
        "3. **Tách từ tiếng việt**"
      ]
    },
    {
      "cell_type": "code",
      "metadata": {
        "id": "2xSH_4e1Mwod"
      },
      "source": [
        "pip install underthesea"
      ],
      "execution_count": null,
      "outputs": []
    },
    {
      "cell_type": "code",
      "metadata": {
        "id": "dgtfJBoeND4a"
      },
      "source": [
        "from underthesea import word_tokenize"
      ],
      "execution_count": null,
      "outputs": []
    },
    {
      "cell_type": "code",
      "metadata": {
        "colab": {
          "base_uri": "https://localhost:8080/",
          "height": 35
        },
        "id": "tq3B-E_JNmKu",
        "outputId": "959f8995-e40b-4553-e6eb-c7241157d7c0"
      },
      "source": [
        "sentence = 'học sinh học sinh học'\r\n",
        "word_tokenize(sentence, format=\"text\")"
      ],
      "execution_count": 42,
      "outputs": [
        {
          "output_type": "execute_result",
          "data": {
            "application/vnd.google.colaboratory.intrinsic+json": {
              "type": "string"
            },
            "text/plain": [
              "'học_sinh học_sinh học'"
            ]
          },
          "metadata": {
            "tags": []
          },
          "execution_count": 42
        }
      ]
    },
    {
      "cell_type": "code",
      "metadata": {
        "id": "uLDDhOeDQ0GZ"
      },
      "source": [
        "def text_preprocess(document):\r\n",
        "    # chuẩn hóa unicode\r\n",
        "    document = convert_unicode(document)\r\n",
        "    # chuẩn hóa cách gõ dấu tiếng Việt\r\n",
        "    document = chuan_hoa_dau_cau_tieng_viet(document)\r\n",
        "    # tách từ\r\n",
        "    document = word_tokenize(document, format=\"text\")\r\n",
        "    # đưa về lower\r\n",
        "    document = document.lower()\r\n",
        "    # xóa các ký tự không cần thiết\r\n",
        "    document = re.sub(r'[^\\s\\wáàảãạăắằẳẵặâấầẩẫậéèẻẽẹêếềểễệóòỏõọôốồổỗộơớờởỡợíìỉĩịúùủũụưứừửữựýỳỷỹỵđ_]',' ',document)\r\n",
        "    # xóa khoảng trắng thừa\r\n",
        "    document = re.sub(r'\\s+', ' ', document).strip()\r\n",
        "    return document"
      ],
      "execution_count": 49,
      "outputs": []
    },
    {
      "cell_type": "code",
      "metadata": {
        "id": "JVcE13sbRapb"
      },
      "source": [
        "df = pd.concat([pd.read_csv('data.csv'), pd.read_csv('data1.csv')])"
      ],
      "execution_count": 52,
      "outputs": []
    },
    {
      "cell_type": "code",
      "metadata": {
        "id": "Sf8NVt9kUnBk"
      },
      "source": [
        "df = df[df['content'].isin(df['content'].value_counts()[df['content'].value_counts() == 1].index)]"
      ],
      "execution_count": 90,
      "outputs": []
    },
    {
      "cell_type": "code",
      "metadata": {
        "colab": {
          "base_uri": "https://localhost:8080/"
        },
        "id": "YXOU-zDxX-5E",
        "outputId": "6240663f-7299-4d78-8ac1-7df8ee6aa4fb"
      },
      "source": [
        "df.value_counts('category')"
      ],
      "execution_count": 91,
      "outputs": [
        {
          "output_type": "execute_result",
          "data": {
            "text/plain": [
              "category\n",
              "doi-song      428\n",
              "giai-tri      426\n",
              "giao-duc      423\n",
              "kinh-doanh    408\n",
              "phap-luat     405\n",
              "suc-khoe      404\n",
              "dtype: int64"
            ]
          },
          "metadata": {
            "tags": []
          },
          "execution_count": 91
        }
      ]
    },
    {
      "cell_type": "code",
      "metadata": {
        "id": "i6QlG2I3Z7qo"
      },
      "source": [
        "df['parsed_content'] = df['content'].apply(text_preprocess)"
      ],
      "execution_count": 92,
      "outputs": []
    },
    {
      "cell_type": "code",
      "metadata": {
        "colab": {
          "base_uri": "https://localhost:8080/",
          "height": 204
        },
        "id": "oeE7VAwLasNw",
        "outputId": "89d399e0-83de-49f3-c911-8086c257fe9c"
      },
      "source": [
        "df.head()"
      ],
      "execution_count": 93,
      "outputs": [
        {
          "output_type": "execute_result",
          "data": {
            "text/html": [
              "<div>\n",
              "<style scoped>\n",
              "    .dataframe tbody tr th:only-of-type {\n",
              "        vertical-align: middle;\n",
              "    }\n",
              "\n",
              "    .dataframe tbody tr th {\n",
              "        vertical-align: top;\n",
              "    }\n",
              "\n",
              "    .dataframe thead th {\n",
              "        text-align: right;\n",
              "    }\n",
              "</style>\n",
              "<table border=\"1\" class=\"dataframe\">\n",
              "  <thead>\n",
              "    <tr style=\"text-align: right;\">\n",
              "      <th></th>\n",
              "      <th>content</th>\n",
              "      <th>category</th>\n",
              "      <th>parsed_content</th>\n",
              "    </tr>\n",
              "  </thead>\n",
              "  <tbody>\n",
              "    <tr>\n",
              "      <th>0</th>\n",
              "      <td>\\nThuở hàn vi, các hãng mua máy bay chỉ bằng c...</td>\n",
              "      <td>kinh-doanh</td>\n",
              "      <td>thuở hàn_vi các hãng mua máy_bay chỉ bằng cách...</td>\n",
              "    </tr>\n",
              "    <tr>\n",
              "      <th>1</th>\n",
              "      <td>\\nGiá vàng trong nước sáng nay tiếp tục giảm t...</td>\n",
              "      <td>kinh-doanh</td>\n",
              "      <td>giá vàng trong nước sáng nay tiếp_tục giảm the...</td>\n",
              "    </tr>\n",
              "    <tr>\n",
              "      <th>2</th>\n",
              "      <td>\\nSo với lúc VN-Index tạo đáy cuối tháng 3, 29...</td>\n",
              "      <td>kinh-doanh</td>\n",
              "      <td>so với lúc vn index tạo đáy cuối tháng 3 2930 ...</td>\n",
              "    </tr>\n",
              "    <tr>\n",
              "      <th>3</th>\n",
              "      <td>\\nTrong bối cảnh Covid-19, nhiều người không p...</td>\n",
              "      <td>kinh-doanh</td>\n",
              "      <td>trong bối_cảnh covid 19 nhiều người không phải...</td>\n",
              "    </tr>\n",
              "    <tr>\n",
              "      <th>4</th>\n",
              "      <td>\\nViệt Nam có thể là một trong những quốc gia ...</td>\n",
              "      <td>kinh-doanh</td>\n",
              "      <td>việt nam có_thể là một trong những quốc_gia nh...</td>\n",
              "    </tr>\n",
              "  </tbody>\n",
              "</table>\n",
              "</div>"
            ],
            "text/plain": [
              "                                             content  ...                                     parsed_content\n",
              "0  \\nThuở hàn vi, các hãng mua máy bay chỉ bằng c...  ...  thuở hàn_vi các hãng mua máy_bay chỉ bằng cách...\n",
              "1  \\nGiá vàng trong nước sáng nay tiếp tục giảm t...  ...  giá vàng trong nước sáng nay tiếp_tục giảm the...\n",
              "2  \\nSo với lúc VN-Index tạo đáy cuối tháng 3, 29...  ...  so với lúc vn index tạo đáy cuối tháng 3 2930 ...\n",
              "3  \\nTrong bối cảnh Covid-19, nhiều người không p...  ...  trong bối_cảnh covid 19 nhiều người không phải...\n",
              "4  \\nViệt Nam có thể là một trong những quốc gia ...  ...  việt nam có_thể là một trong những quốc_gia nh...\n",
              "\n",
              "[5 rows x 3 columns]"
            ]
          },
          "metadata": {
            "tags": []
          },
          "execution_count": 93
        }
      ]
    },
    {
      "cell_type": "markdown",
      "metadata": {
        "id": "xOeObEEveqAj"
      },
      "source": [
        "4. **Xoá các stop word Tiếng Việt**"
      ]
    },
    {
      "cell_type": "code",
      "metadata": {
        "id": "J15x-utIa41n"
      },
      "source": [
        "from collections import Counter\r\n",
        "\r\n",
        "count_words = Counter(' '.join(df['parsed_content']).split())"
      ],
      "execution_count": null,
      "outputs": []
    },
    {
      "cell_type": "code",
      "metadata": {
        "colab": {
          "base_uri": "https://localhost:8080/"
        },
        "id": "59oVbkVtbk23",
        "outputId": "6221b1b5-4bb7-421e-9721-be265a05adc0"
      },
      "source": [
        "len(count_words)"
      ],
      "execution_count": 96,
      "outputs": [
        {
          "output_type": "execute_result",
          "data": {
            "text/plain": [
              "30997"
            ]
          },
          "metadata": {
            "tags": []
          },
          "execution_count": 96
        }
      ]
    },
    {
      "cell_type": "code",
      "metadata": {
        "colab": {
          "base_uri": "https://localhost:8080/"
        },
        "id": "nTRH3Hl4boO_",
        "outputId": "5911ab9c-a835-42ba-a856-eb41aeca5773"
      },
      "source": [
        "count_words.most_common(50)"
      ],
      "execution_count": 100,
      "outputs": [
        {
          "output_type": "execute_result",
          "data": {
            "text/plain": [
              "[('và', 18045),\n",
              " ('của', 14768),\n",
              " ('trong', 12045),\n",
              " ('các', 11579),\n",
              " ('là', 11270),\n",
              " ('cho', 10919),\n",
              " ('có', 10878),\n",
              " ('người', 10426),\n",
              " ('được', 10333),\n",
              " ('không', 9834),\n",
              " ('với', 9224),\n",
              " ('một', 8988),\n",
              " ('khi', 7744),\n",
              " ('để', 7227),\n",
              " ('những', 6826),\n",
              " ('năm', 6711),\n",
              " ('đã', 6312),\n",
              " ('đến', 6019),\n",
              " ('ở', 5999),\n",
              " ('từ', 5843),\n",
              " ('nhiều', 5681),\n",
              " ('này', 5624),\n",
              " ('về', 5535),\n",
              " ('đó', 4990),\n",
              " ('vào', 4952),\n",
              " ('sau', 4643),\n",
              " ('hơn', 4516),\n",
              " ('sẽ', 4462),\n",
              " ('tại', 4461),\n",
              " ('anh', 4430),\n",
              " ('cũng', 4363),\n",
              " ('ra', 4127),\n",
              " ('ông', 4085),\n",
              " ('bị', 4054),\n",
              " ('trên', 3957),\n",
              " ('ngày', 3902),\n",
              " ('như', 3897),\n",
              " ('tôi', 3716),\n",
              " ('nhà', 3691),\n",
              " ('bạn', 3680),\n",
              " ('hai', 3676),\n",
              " ('phải', 3564),\n",
              " ('theo', 3514),\n",
              " ('làm', 3502),\n",
              " ('có_thể', 3451),\n",
              " ('cô', 3316),\n",
              " ('lại', 3274),\n",
              " ('nói', 3263),\n",
              " ('nhưng', 3262),\n",
              " ('biết', 3247)]"
            ]
          },
          "metadata": {
            "tags": []
          },
          "execution_count": 100
        }
      ]
    },
    {
      "cell_type": "code",
      "metadata": {
        "id": "lt1vQMsdd1Y-"
      },
      "source": [
        "stop_words, times = zip(*count_words.most_common(50))"
      ],
      "execution_count": 102,
      "outputs": []
    },
    {
      "cell_type": "code",
      "metadata": {
        "colab": {
          "base_uri": "https://localhost:8080/"
        },
        "id": "9-ncdqQTeigT",
        "outputId": "006b4cd2-1e3e-46e6-b3ca-d27da70e995e"
      },
      "source": [
        ""
      ],
      "execution_count": 103,
      "outputs": [
        {
          "output_type": "execute_result",
          "data": {
            "text/plain": [
              "('và',\n",
              " 'của',\n",
              " 'trong',\n",
              " 'các',\n",
              " 'là',\n",
              " 'cho',\n",
              " 'có',\n",
              " 'người',\n",
              " 'được',\n",
              " 'không',\n",
              " 'với',\n",
              " 'một',\n",
              " 'khi',\n",
              " 'để',\n",
              " 'những',\n",
              " 'năm',\n",
              " 'đã',\n",
              " 'đến',\n",
              " 'ở',\n",
              " 'từ',\n",
              " 'nhiều',\n",
              " 'này',\n",
              " 'về',\n",
              " 'đó',\n",
              " 'vào',\n",
              " 'sau',\n",
              " 'hơn',\n",
              " 'sẽ',\n",
              " 'tại',\n",
              " 'anh',\n",
              " 'cũng',\n",
              " 'ra',\n",
              " 'ông',\n",
              " 'bị',\n",
              " 'trên',\n",
              " 'ngày',\n",
              " 'như',\n",
              " 'tôi',\n",
              " 'nhà',\n",
              " 'bạn',\n",
              " 'hai',\n",
              " 'phải',\n",
              " 'theo',\n",
              " 'làm',\n",
              " 'có_thể',\n",
              " 'cô',\n",
              " 'lại',\n",
              " 'nói',\n",
              " 'nhưng',\n",
              " 'biết')"
            ]
          },
          "metadata": {
            "tags": []
          },
          "execution_count": 103
        }
      ]
    },
    {
      "cell_type": "code",
      "metadata": {
        "id": "WS9UPlYVe5Bz"
      },
      "source": [
        "df['parsed_content_1'] = df['parsed_content']\r\n",
        "for word in stop_words:\r\n",
        "  df['parsed_content_1'] = df['parsed_content_1'].str.replace(word, '')"
      ],
      "execution_count": 109,
      "outputs": []
    },
    {
      "cell_type": "code",
      "metadata": {
        "id": "siAF-Z3PfYXP"
      },
      "source": [
        "df = df[['content', 'category', 'parsed_content_1']]\r\n",
        "df = df.rename(columns={'parsed_content_1': 'parsed_content'})"
      ],
      "execution_count": 111,
      "outputs": []
    },
    {
      "cell_type": "code",
      "metadata": {
        "colab": {
          "base_uri": "https://localhost:8080/",
          "height": 204
        },
        "id": "EeY863kAgBZW",
        "outputId": "e63b33b7-1a62-4581-91c3-3b49145370de"
      },
      "source": [
        "df.head()"
      ],
      "execution_count": 113,
      "outputs": [
        {
          "output_type": "execute_result",
          "data": {
            "text/html": [
              "<div>\n",
              "<style scoped>\n",
              "    .dataframe tbody tr th:only-of-type {\n",
              "        vertical-align: middle;\n",
              "    }\n",
              "\n",
              "    .dataframe tbody tr th {\n",
              "        vertical-align: top;\n",
              "    }\n",
              "\n",
              "    .dataframe thead th {\n",
              "        text-align: right;\n",
              "    }\n",
              "</style>\n",
              "<table border=\"1\" class=\"dataframe\">\n",
              "  <thead>\n",
              "    <tr style=\"text-align: right;\">\n",
              "      <th></th>\n",
              "      <th>content</th>\n",
              "      <th>category</th>\n",
              "      <th>parsed_content</th>\n",
              "    </tr>\n",
              "  </thead>\n",
              "  <tbody>\n",
              "    <tr>\n",
              "      <th>0</th>\n",
              "      <td>\\nThuở hàn vi, các hãng mua máy bay chỉ bằng c...</td>\n",
              "      <td>kinh-doanh</td>\n",
              "      <td>thu hàn_vi  hãng mua máy_bay chỉ bằng h tham_k...</td>\n",
              "    </tr>\n",
              "    <tr>\n",
              "      <th>1</th>\n",
              "      <td>\\nGiá vàng trong nước sáng nay tiếp tục giảm t...</td>\n",
              "      <td>kinh-doanh</td>\n",
              "      <td>giá ng  nước sáng nay tiếp_tục giảm  giá thế_g...</td>\n",
              "    </tr>\n",
              "    <tr>\n",
              "      <th>2</th>\n",
              "      <td>\\nSo với lúc VN-Index tạo đáy cuối tháng 3, 29...</td>\n",
              "      <td>kinh-doanh</td>\n",
              "      <td>so  lúc vn index tạo đáy cuối tháng 3 2930 mã ...</td>\n",
              "    </tr>\n",
              "    <tr>\n",
              "      <th>3</th>\n",
              "      <td>\\nTrong bối cảnh Covid-19, nhiều người không p...</td>\n",
              "      <td>kinh-doanh</td>\n",
              "      <td>bối_cảnh covid 19     dân đầu_tư bất_động_sản...</td>\n",
              "    </tr>\n",
              "    <tr>\n",
              "      <th>4</th>\n",
              "      <td>\\nViệt Nam có thể là một trong những quốc gia ...</td>\n",
              "      <td>kinh-doanh</td>\n",
              "      <td>việt nam _thể     quốc_gia nhận  lợi_ích  rcep...</td>\n",
              "    </tr>\n",
              "  </tbody>\n",
              "</table>\n",
              "</div>"
            ],
            "text/plain": [
              "                                             content  ...                                     parsed_content\n",
              "0  \\nThuở hàn vi, các hãng mua máy bay chỉ bằng c...  ...  thu hàn_vi  hãng mua máy_bay chỉ bằng h tham_k...\n",
              "1  \\nGiá vàng trong nước sáng nay tiếp tục giảm t...  ...  giá ng  nước sáng nay tiếp_tục giảm  giá thế_g...\n",
              "2  \\nSo với lúc VN-Index tạo đáy cuối tháng 3, 29...  ...  so  lúc vn index tạo đáy cuối tháng 3 2930 mã ...\n",
              "3  \\nTrong bối cảnh Covid-19, nhiều người không p...  ...   bối_cảnh covid 19     dân đầu_tư bất_động_sản...\n",
              "4  \\nViệt Nam có thể là một trong những quốc gia ...  ...  việt nam _thể     quốc_gia nhận  lợi_ích  rcep...\n",
              "\n",
              "[5 rows x 3 columns]"
            ]
          },
          "metadata": {
            "tags": []
          },
          "execution_count": 113
        }
      ]
    },
    {
      "cell_type": "markdown",
      "metadata": {
        "id": "StWnWHBHgOES"
      },
      "source": [
        "# Chia tập dữ liệu thanh tập train và test"
      ]
    },
    {
      "cell_type": "markdown",
      "metadata": {
        "id": "XF4-X1fugXaI"
      },
      "source": [
        "label encoding"
      ]
    },
    {
      "cell_type": "code",
      "metadata": {
        "colab": {
          "base_uri": "https://localhost:8080/"
        },
        "id": "11oDIO8YgNpF",
        "outputId": "7dcb24ab-4f15-4a77-f6ff-2682a41e3943"
      },
      "source": [
        "df.value_counts(\"category\")"
      ],
      "execution_count": 114,
      "outputs": [
        {
          "output_type": "execute_result",
          "data": {
            "text/plain": [
              "category\n",
              "doi-song      428\n",
              "giai-tri      426\n",
              "giao-duc      423\n",
              "kinh-doanh    408\n",
              "phap-luat     405\n",
              "suc-khoe      404\n",
              "dtype: int64"
            ]
          },
          "metadata": {
            "tags": []
          },
          "execution_count": 114
        }
      ]
    },
    {
      "cell_type": "code",
      "metadata": {
        "id": "N5zKuFXPgfE0"
      },
      "source": [
        "category_codes = {'doi-song': 0,\r\n",
        "                  'giai-tri': 1,\r\n",
        "                  'giao-duc': 2,\r\n",
        "                  'kinh-doanh': 3,\r\n",
        "                  'phap-luat': 4,\r\n",
        "                  'suc-khoe': 5}"
      ],
      "execution_count": 116,
      "outputs": []
    },
    {
      "cell_type": "code",
      "metadata": {
        "id": "NxqZ5bzCg5UI"
      },
      "source": [
        "df['category_code'] = df['category']\r\n",
        "df = df.replace({'category_code': category_codes})"
      ],
      "execution_count": 117,
      "outputs": []
    },
    {
      "cell_type": "code",
      "metadata": {
        "colab": {
          "base_uri": "https://localhost:8080/",
          "height": 204
        },
        "id": "XmzYvWD3hJZh",
        "outputId": "08a841e0-3fd2-4ef0-abd8-c3d9428b2903"
      },
      "source": [
        "df.head()"
      ],
      "execution_count": 118,
      "outputs": [
        {
          "output_type": "execute_result",
          "data": {
            "text/html": [
              "<div>\n",
              "<style scoped>\n",
              "    .dataframe tbody tr th:only-of-type {\n",
              "        vertical-align: middle;\n",
              "    }\n",
              "\n",
              "    .dataframe tbody tr th {\n",
              "        vertical-align: top;\n",
              "    }\n",
              "\n",
              "    .dataframe thead th {\n",
              "        text-align: right;\n",
              "    }\n",
              "</style>\n",
              "<table border=\"1\" class=\"dataframe\">\n",
              "  <thead>\n",
              "    <tr style=\"text-align: right;\">\n",
              "      <th></th>\n",
              "      <th>content</th>\n",
              "      <th>category</th>\n",
              "      <th>parsed_content</th>\n",
              "      <th>category_code</th>\n",
              "    </tr>\n",
              "  </thead>\n",
              "  <tbody>\n",
              "    <tr>\n",
              "      <th>0</th>\n",
              "      <td>\\nThuở hàn vi, các hãng mua máy bay chỉ bằng c...</td>\n",
              "      <td>kinh-doanh</td>\n",
              "      <td>thu hàn_vi  hãng mua máy_bay chỉ bằng h tham_k...</td>\n",
              "      <td>3</td>\n",
              "    </tr>\n",
              "    <tr>\n",
              "      <th>1</th>\n",
              "      <td>\\nGiá vàng trong nước sáng nay tiếp tục giảm t...</td>\n",
              "      <td>kinh-doanh</td>\n",
              "      <td>giá ng  nước sáng nay tiếp_tục giảm  giá thế_g...</td>\n",
              "      <td>3</td>\n",
              "    </tr>\n",
              "    <tr>\n",
              "      <th>2</th>\n",
              "      <td>\\nSo với lúc VN-Index tạo đáy cuối tháng 3, 29...</td>\n",
              "      <td>kinh-doanh</td>\n",
              "      <td>so  lúc vn index tạo đáy cuối tháng 3 2930 mã ...</td>\n",
              "      <td>3</td>\n",
              "    </tr>\n",
              "    <tr>\n",
              "      <th>3</th>\n",
              "      <td>\\nTrong bối cảnh Covid-19, nhiều người không p...</td>\n",
              "      <td>kinh-doanh</td>\n",
              "      <td>bối_cảnh covid 19     dân đầu_tư bất_động_sản...</td>\n",
              "      <td>3</td>\n",
              "    </tr>\n",
              "    <tr>\n",
              "      <th>4</th>\n",
              "      <td>\\nViệt Nam có thể là một trong những quốc gia ...</td>\n",
              "      <td>kinh-doanh</td>\n",
              "      <td>việt nam _thể     quốc_gia nhận  lợi_ích  rcep...</td>\n",
              "      <td>3</td>\n",
              "    </tr>\n",
              "  </tbody>\n",
              "</table>\n",
              "</div>"
            ],
            "text/plain": [
              "                                             content  ... category_code\n",
              "0  \\nThuở hàn vi, các hãng mua máy bay chỉ bằng c...  ...             3\n",
              "1  \\nGiá vàng trong nước sáng nay tiếp tục giảm t...  ...             3\n",
              "2  \\nSo với lúc VN-Index tạo đáy cuối tháng 3, 29...  ...             3\n",
              "3  \\nTrong bối cảnh Covid-19, nhiều người không p...  ...             3\n",
              "4  \\nViệt Nam có thể là một trong những quốc gia ...  ...             3\n",
              "\n",
              "[5 rows x 4 columns]"
            ]
          },
          "metadata": {
            "tags": []
          },
          "execution_count": 118
        }
      ]
    },
    {
      "cell_type": "code",
      "metadata": {
        "id": "2CcMDbTqhcjJ"
      },
      "source": [
        "X_train, X_test, Y_train, Y_test = train_test_split(df['content'], df['category_code'],\r\n",
        "                                                    test_size=0.2, random_state=1)"
      ],
      "execution_count": 120,
      "outputs": []
    },
    {
      "cell_type": "markdown",
      "metadata": {
        "id": "On1o7a5mh1bt"
      },
      "source": [
        "# Xậy dựng vector cho mỗi văn bản bằng phương pháp TF-IDF"
      ]
    },
    {
      "cell_type": "code",
      "metadata": {
        "id": "nxEdXIcUh0FW"
      },
      "source": [
        "\r\n",
        "tfidf = TfidfVectorizer(encoding='utf-8',\r\n",
        "                        max_features=2000)"
      ],
      "execution_count": 129,
      "outputs": []
    },
    {
      "cell_type": "code",
      "metadata": {
        "id": "OlRjG9Vaila2"
      },
      "source": [
        "features_train = tfidf.fit_transform(X_train).toarray()\r\n",
        "\r\n",
        "features_test = tfidf.transform(X_test).toarray()"
      ],
      "execution_count": 130,
      "outputs": []
    },
    {
      "cell_type": "markdown",
      "metadata": {
        "id": "EA5XZOUaivLF"
      },
      "source": [
        "# Huấn luyện model"
      ]
    },
    {
      "cell_type": "code",
      "metadata": {
        "id": "JGyXmaMNjayy"
      },
      "source": [
        "labels_train = Y_train\r\n",
        "labels_test = Y_test"
      ],
      "execution_count": 131,
      "outputs": []
    },
    {
      "cell_type": "code",
      "metadata": {
        "colab": {
          "base_uri": "https://localhost:8080/"
        },
        "id": "OSPgEst6i2Ce",
        "outputId": "2ba7a00b-fb76-4f1d-bcbb-9c56b0b9f335"
      },
      "source": [
        "\r\n",
        "# Model 1: Linear Support Vector Classifier\r\n",
        "\r\n",
        "lsvc = LinearSVC()\r\n",
        "\r\n",
        "# Training the model\r\n",
        "lsvc.fit(features_train, labels_train)\r\n",
        "\r\n",
        "# Getting the score of train and test data\r\n",
        "print(lsvc.score(features_train, labels_train))\r\n",
        "print(lsvc.score(features_test, labels_test))"
      ],
      "execution_count": 132,
      "outputs": [
        {
          "output_type": "stream",
          "text": [
            "0.9994987468671679\n",
            "0.9458917835671342\n"
          ],
          "name": "stdout"
        }
      ]
    },
    {
      "cell_type": "code",
      "metadata": {
        "colab": {
          "base_uri": "https://localhost:8080/"
        },
        "id": "8cg5ZYVmjJT_",
        "outputId": "702c1e3c-d2ad-4fae-c72c-41ce5b6292dd"
      },
      "source": [
        "# Model 2: Gaussian Naive Bayes\r\n",
        "\r\n",
        "gnb = GaussianNB()\r\n",
        "\r\n",
        "# Training the model\r\n",
        "gnb.fit(features_train, labels_train)\r\n",
        "\r\n",
        "# Getting the score of train and test data\r\n",
        "print(gnb.score(features_train, labels_train))\r\n",
        "print(gnb.score(features_test, labels_test))"
      ],
      "execution_count": 133,
      "outputs": [
        {
          "output_type": "stream",
          "text": [
            "0.9789473684210527\n",
            "0.7555110220440882\n"
          ],
          "name": "stdout"
        }
      ]
    },
    {
      "cell_type": "code",
      "metadata": {
        "colab": {
          "base_uri": "https://localhost:8080/"
        },
        "id": "CiRWbp2IjMAJ",
        "outputId": "be16b62b-305b-4e03-d2be-f28e8cf6c0fb"
      },
      "source": [
        "lr = LogisticRegression(multi_class='auto', solver='lbfgs')\r\n",
        "\r\n",
        "# Training the model\r\n",
        "lr.fit(features_train, labels_train)\r\n",
        "\r\n",
        "# Getting the score of train and test data\r\n",
        "print(lr.score(features_train, labels_train))\r\n",
        "print(lr.score(features_test, labels_test))"
      ],
      "execution_count": 144,
      "outputs": [
        {
          "output_type": "stream",
          "text": [
            "0.9694235588972431\n",
            "0.9438877755511023\n"
          ],
          "name": "stdout"
        }
      ]
    },
    {
      "cell_type": "code",
      "metadata": {
        "colab": {
          "base_uri": "https://localhost:8080/"
        },
        "id": "tZWnT8pCjOEO",
        "outputId": "4b3145a2-f6e6-488c-a970-e67806803136"
      },
      "source": [
        "# Model 4: Random Forest Classifier\r\n",
        "\r\n",
        "rfc = RandomForestClassifier(n_estimators= 10, random_state= 0)\r\n",
        "\r\n",
        "# Training the model\r\n",
        "rfc.fit(features_train, labels_train)\r\n",
        "\r\n",
        "# Getting the score of train and test data\r\n",
        "print(rfc.score(features_train, labels_train))\r\n",
        "print(rfc.score(features_test, labels_test))"
      ],
      "execution_count": 135,
      "outputs": [
        {
          "output_type": "stream",
          "text": [
            "0.9989974937343359\n",
            "0.8577154308617234\n"
          ],
          "name": "stdout"
        }
      ]
    },
    {
      "cell_type": "code",
      "metadata": {
        "id": "yuc0lM57lnX8"
      },
      "source": [
        "import pickle"
      ],
      "execution_count": 146,
      "outputs": []
    },
    {
      "cell_type": "code",
      "metadata": {
        "id": "eEQ7b6z_l0J3"
      },
      "source": [
        "with open('tfidf.pickle', 'wb') as f:\r\n",
        "  pickle.dump(tfidf, f)"
      ],
      "execution_count": 149,
      "outputs": []
    },
    {
      "cell_type": "code",
      "metadata": {
        "id": "gvi0CVSKmI0b"
      },
      "source": [
        "with open('model.pickle', 'wb') as f:\r\n",
        "  pickle.dump(lsvc, f)"
      ],
      "execution_count": 150,
      "outputs": []
    }
  ]
}