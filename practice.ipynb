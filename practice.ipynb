{
  "nbformat": 4,
  "nbformat_minor": 0,
  "metadata": {
    "colab": {
      "name": "practice.ipynb",
      "provenance": [],
      "authorship_tag": "ABX9TyMivgy4bdED3eXJ+3rI51vj",
      "include_colab_link": true
    },
    "kernelspec": {
      "name": "python3",
      "display_name": "Python 3"
    }
  },
  "cells": [
    {
      "cell_type": "markdown",
      "metadata": {
        "id": "view-in-github",
        "colab_type": "text"
      },
      "source": [
        "<a href=\"https://colab.research.google.com/github/phan-le-phu/CS114.K21/blob/master/practice.ipynb\" target=\"_parent\"><img src=\"https://colab.research.google.com/assets/colab-badge.svg\" alt=\"Open In Colab\"/></a>"
      ]
    },
    {
      "cell_type": "code",
      "metadata": {
        "id": "k4wcg38kAsaD",
        "colab_type": "code",
        "colab": {}
      },
      "source": [
        "# Load libraries\n",
        "import math\n",
        "import numpy as np\n",
        "import matplotlib.pyplot as plt\n",
        "import pandas as pd\n",
        "from sklearn.model_selection import train_test_split\n",
        "from sklearn import linear_model\n",
        "from sklearn.metrics import mean_squared_error, r2_score\n"
      ],
      "execution_count": 0,
      "outputs": []
    },
    {
      "cell_type": "code",
      "metadata": {
        "id": "P85K1CZjA0rt",
        "colab_type": "code",
        "colab": {}
      },
      "source": [
        "# Load dataset\n",
        "url = \"https://cs.uit.edu.vn/data.txt\"\n",
        "names = ['sizes', 'times']\n",
        "dataset = pd.read_csv(url, names=names)\n",
        "\n",
        "# add  new features (n^2, log2n)\n",
        "sizes_square = []\n",
        "log_2_sizes = []\n",
        "for index, row in dataset.iterrows():\n",
        "  sizes_square.append(row[\"sizes\"] ** 2)\n",
        "  log_2_sizes.append(math.log2(row[\"sizes\"]))\n",
        "dataset[\"sizes_square\"] = sizes_square\n",
        "dataset[\"log_2_sizes\"] = log_2_sizes"
      ],
      "execution_count": 0,
      "outputs": []
    },
    {
      "cell_type": "code",
      "metadata": {
        "id": "4LNRIQ0BBMVm",
        "colab_type": "code",
        "outputId": "bc63b0d4-8fa0-48f0-fc89-f55a57831de9",
        "colab": {
          "base_uri": "https://localhost:8080/",
          "height": 34
        }
      },
      "source": [
        "# shape\n",
        "print(dataset.shape)"
      ],
      "execution_count": 82,
      "outputs": [
        {
          "output_type": "stream",
          "text": [
            "(5211, 4)\n"
          ],
          "name": "stdout"
        }
      ]
    },
    {
      "cell_type": "code",
      "metadata": {
        "id": "WZbAie7jBbOT",
        "colab_type": "code",
        "outputId": "73434cd2-56bf-40d1-90cb-44a88b2330ee",
        "colab": {
          "base_uri": "https://localhost:8080/",
          "height": 374
        }
      },
      "source": [
        "# head\n",
        "print(dataset.head(20))"
      ],
      "execution_count": 83,
      "outputs": [
        {
          "output_type": "stream",
          "text": [
            "      sizes     times  sizes_square  log_2_sizes\n",
            "0   4032139  1.200580  1.625814e+13    21.943114\n",
            "1   2055486  0.509774  4.225023e+12    20.971048\n",
            "2   5626651  1.476080  3.165920e+13    22.423845\n",
            "3     42065  0.007651  1.769464e+09    15.360333\n",
            "4   6297788  1.661560  3.966213e+13    22.586414\n",
            "5   8871407  2.653120  7.870186e+13    23.080732\n",
            "6   3106899  0.801168  9.652821e+12    21.567044\n",
            "7   2410855  0.598170  5.812222e+12    21.201113\n",
            "8    558704  0.129056  3.121502e+11    19.091725\n",
            "9   9012730  2.477870  8.122930e+13    23.103533\n",
            "10  6099403  1.631770  3.720272e+13    22.540237\n",
            "11  7189925  1.940180  5.169502e+13    22.777545\n",
            "12  3759151  0.978011  1.413122e+13    21.841975\n",
            "13  8004274  2.202210  6.406840e+13    22.932339\n",
            "14  4125525  1.059360  1.701996e+13    21.976146\n",
            "15  7580493  2.084130  5.746387e+13    22.853860\n",
            "16  9045670  2.461290  8.182415e+13    23.108796\n",
            "17  2987773  0.768997  8.926787e+12    21.510639\n",
            "18  2956967  0.780160  8.743654e+12    21.495687\n",
            "19  1941281  0.477229  3.768572e+12    20.888578\n"
          ],
          "name": "stdout"
        }
      ]
    },
    {
      "cell_type": "code",
      "metadata": {
        "id": "nCMlHWHXBrVG",
        "colab_type": "code",
        "outputId": "023e90ac-bd0d-426b-844b-5f0a22e2692e",
        "colab": {
          "base_uri": "https://localhost:8080/",
          "height": 170
        }
      },
      "source": [
        "# descriptions\n",
        "print(dataset.describe())"
      ],
      "execution_count": 84,
      "outputs": [
        {
          "output_type": "stream",
          "text": [
            "              sizes        times  sizes_square  log_2_sizes\n",
            "count  5.211000e+03  5211.000000  5.211000e+03  5211.000000\n",
            "mean   4.991583e+06     1.363322  3.334470e+13    21.801786\n",
            "std    2.903517e+06     0.825849  2.997776e+13     1.459945\n",
            "min    2.390000e+02     0.000028  5.712100e+04     7.900867\n",
            "25%    2.451362e+06     0.630964  6.009176e+12    21.225152\n",
            "50%    5.032102e+06     1.355770  2.532205e+13    22.262730\n",
            "75%    7.523041e+06     2.076820  5.659615e+13    22.842885\n",
            "max    9.995358e+06     3.315540  9.990718e+13    23.252827\n"
          ],
          "name": "stdout"
        }
      ]
    },
    {
      "cell_type": "code",
      "metadata": {
        "id": "NosTJBO4CsC5",
        "colab_type": "code",
        "outputId": "4e04da04-c21e-4812-bce6-d5fb76237a2b",
        "colab": {
          "base_uri": "https://localhost:8080/",
          "height": 221
        }
      },
      "source": [
        "print(dataset.info())"
      ],
      "execution_count": 85,
      "outputs": [
        {
          "output_type": "stream",
          "text": [
            "<class 'pandas.core.frame.DataFrame'>\n",
            "RangeIndex: 5211 entries, 0 to 5210\n",
            "Data columns (total 4 columns):\n",
            " #   Column        Non-Null Count  Dtype  \n",
            "---  ------        --------------  -----  \n",
            " 0   sizes         5211 non-null   int64  \n",
            " 1   times         5211 non-null   float64\n",
            " 2   sizes_square  5211 non-null   float64\n",
            " 3   log_2_sizes   5211 non-null   float64\n",
            "dtypes: float64(3), int64(1)\n",
            "memory usage: 163.0 KB\n",
            "None\n"
          ],
          "name": "stdout"
        }
      ]
    },
    {
      "cell_type": "code",
      "metadata": {
        "id": "XnTEdT0qcxYS",
        "colab_type": "code",
        "outputId": "ce9e78de-dedf-453f-b6f6-4701266e0f2e",
        "colab": {
          "base_uri": "https://localhost:8080/",
          "height": 278
        }
      },
      "source": [
        "plt.scatter(dataset[\"sizes\"],dataset[\"times\"])\n",
        "plt.show()\n"
      ],
      "execution_count": 86,
      "outputs": [
        {
          "output_type": "display_data",
          "data": {
            "image/png": "[encoded data removed]",
            "text/plain": [
              "<Figure size 432x288 with 1 Axes>"
            ]
          },
          "metadata": {
            "tags": [],
            "needs_background": "light"
          }
        }
      ]
    },
    {
      "cell_type": "code",
      "metadata": {
        "id": "nlUeZ7zDiUd2",
        "colab_type": "code",
        "colab": {}
      },
      "source": [
        "X_train, X_test, Y_train, Y_test = train_test_split(dataset[\"sizes\"], dataset[\"times\"], test_size = 0.2)"
      ],
      "execution_count": 0,
      "outputs": []
    },
    {
      "cell_type": "code",
      "metadata": {
        "id": "vMlTb-rFjKD4",
        "colab_type": "code",
        "colab": {}
      },
      "source": [
        "my_model =  linear_model.LinearRegression()"
      ],
      "execution_count": 0,
      "outputs": []
    },
    {
      "cell_type": "code",
      "metadata": {
        "id": "ktThHAo7lNbX",
        "colab_type": "code",
        "outputId": "42dc3645-7d89-4eaa-e13d-2618a282833f",
        "colab": {
          "base_uri": "https://localhost:8080/",
          "height": 34
        }
      },
      "source": [
        "X_train = X_train.values.reshape(-1, 1)\n",
        "Y_train = Y_train.values.reshape(-1, 1)\n",
        "X_test = X_test.values.reshape(-1, 1)\n",
        "Y_test = Y_test.values.reshape(-1, 1)\n",
        "my_model.fit(X_train, Y_train)"
      ],
      "execution_count": 89,
      "outputs": [
        {
          "output_type": "execute_result",
          "data": {
            "text/plain": [
              "LinearRegression(copy_X=True, fit_intercept=True, n_jobs=None, normalize=False)"
            ]
          },
          "metadata": {
            "tags": []
          },
          "execution_count": 89
        }
      ]
    },
    {
      "cell_type": "code",
      "metadata": {
        "id": "9YxUGc-BlQ4N",
        "colab_type": "code",
        "colab": {}
      },
      "source": [
        "Y_pred = my_model.predict(X_test)"
      ],
      "execution_count": 0,
      "outputs": []
    },
    {
      "cell_type": "code",
      "metadata": {
        "id": "TatUVTBMPrGS",
        "colab_type": "code",
        "outputId": "bfa20266-4ad8-4944-9300-93d12d44bc48",
        "colab": {
          "base_uri": "https://localhost:8080/",
          "height": 85
        }
      },
      "source": [
        "# The coefficients\n",
        "print('Coefficients: \\n', my_model.coef_)\n",
        "# The mean squared error\n",
        "print('Mean squared error: %.20f'\n",
        "      % mean_squared_error(Y_test, Y_pred))\n",
        "# The coefficient of determination: 1 is perfect prediction\n",
        "print('Coefficient of determination: %.2f'\n",
        "      % r2_score(Y_test, Y_pred))"
      ],
      "execution_count": 91,
      "outputs": [
        {
          "output_type": "stream",
          "text": [
            "Coefficients: \n",
            " [[2.83877533e-07]]\n",
            "Mean squared error: 0.00215193309360505640\n",
            "Coefficient of determination: 1.00\n"
          ],
          "name": "stdout"
        }
      ]
    },
    {
      "cell_type": "code",
      "metadata": {
        "id": "5mAtZtkjQNMZ",
        "colab_type": "code",
        "outputId": "9520790a-4300-4c63-e168-e0c5afb9d469",
        "colab": {
          "base_uri": "https://localhost:8080/",
          "height": 252
        }
      },
      "source": [
        "plt.scatter(X_test, Y_test,  color='blue')\n",
        "plt.plot(X_test, Y_pred, color='yellow', linewidth=3)\n",
        "\n",
        "plt.xticks(())\n",
        "plt.yticks(())\n",
        "\n",
        "plt.show()"
      ],
      "execution_count": 92,
      "outputs": [
        {
          "output_type": "display_data",
          "data": {
            "image/png": "[encoded data removed]",
            "text/plain": [
              "<Figure size 432x288 with 1 Axes>"
            ]
          },
          "metadata": {
            "tags": []
          }
        }
      ]
    },
    {
      "cell_type": "markdown",
      "metadata": {
        "id": "SX-S--2LHN8i",
        "colab_type": "text"
      },
      "source": [
        "# Train model thứ hai với hai features là sizes và sizes_square"
      ]
    },
    {
      "cell_type": "code",
      "metadata": {
        "id": "drWSSl0zd175",
        "colab_type": "code",
        "outputId": "10b9e463-2d33-4b14-d9f3-11589b28c028",
        "colab": {
          "base_uri": "https://localhost:8080/",
          "height": 289
        }
      },
      "source": [
        "X_train, X_test, Y_train, Y_test = train_test_split(dataset.loc[:, ['sizes', 'sizes_square']], dataset[\"times\"], test_size = 0.2)\n",
        "print(X_train)\n",
        "Y_train.values.reshape(-1, 1)\n",
        "Y_test.values.reshape(-1, 1)\n",
        "my_2_model =  linear_model.LinearRegression()\n",
        "\n",
        "my_2_model.fit(X_train, Y_train)\n",
        "Y_pred = my_2_model.predict(X_test)\n",
        "# The coefficients\n",
        "# print('Coefficients: \\n', my_model.coef_)\n",
        "# The mean squared error\n",
        "print('Mean squared error: %.20f'\n",
        "      % mean_squared_error(Y_test, Y_pred))\n",
        "# The coefficient of determination: 1 is perfect prediction\n",
        "print('Coefficient of determination: %.2f'\n",
        "      % r2_score(Y_test, Y_pred))\n"
      ],
      "execution_count": 93,
      "outputs": [
        {
          "output_type": "stream",
          "text": [
            "        sizes  sizes_square\n",
            "4516  2501420  6.257102e+12\n",
            "3571  4914277  2.415012e+13\n",
            "191   6267660  3.928356e+13\n",
            "1868  3347785  1.120766e+13\n",
            "415   1868479  3.491214e+12\n",
            "...       ...           ...\n",
            "1565  4409574  1.944434e+13\n",
            "2125  9872227  9.746087e+13\n",
            "4597  3235216  1.046662e+13\n",
            "341   3078866  9.479416e+12\n",
            "162   8582266  7.365529e+13\n",
            "\n",
            "[4168 rows x 2 columns]\n",
            "Mean squared error: 0.00150723688603459434\n",
            "Coefficient of determination: 1.00\n"
          ],
          "name": "stdout"
        }
      ]
    },
    {
      "cell_type": "markdown",
      "metadata": {
        "id": "rJzRQkPmHgRk",
        "colab_type": "text"
      },
      "source": [
        "# Train model thứ ba với ba features là sizes, sizes_square và log_2_sizes"
      ]
    },
    {
      "cell_type": "code",
      "metadata": {
        "id": "a2Os6dSJHfbo",
        "colab_type": "code",
        "colab": {
          "base_uri": "https://localhost:8080/",
          "height": 289
        },
        "outputId": "241d8ffa-cd3f-402e-c503-e6ed02b88d04"
      },
      "source": [
        "X_train, X_test, Y_train, Y_test = train_test_split(dataset.loc[:, ['sizes', 'sizes_square', 'log_2_sizes']], dataset[\"times\"], test_size = 0.2)\n",
        "print(X_train)\n",
        "Y_train.values.reshape(-1, 1)\n",
        "Y_test.values.reshape(-1, 1)\n",
        "my_3_model =  linear_model.LinearRegression()\n",
        "\n",
        "my_3_model.fit(X_train, Y_train)\n",
        "Y_pred = my_3_model.predict(X_test)\n",
        "# The coefficients\n",
        "# print('Coefficients: \\n', my_model.coef_)\n",
        "# The mean squared error\n",
        "print('Mean squared error: %.20f'\n",
        "      % mean_squared_error(Y_test, Y_pred))\n",
        "# The coefficient of determination: 1 is perfect prediction\n",
        "print('Coefficient of determination: %.2f'\n",
        "      % r2_score(Y_test, Y_pred))\n"
      ],
      "execution_count": 94,
      "outputs": [
        {
          "output_type": "stream",
          "text": [
            "        sizes  sizes_square  log_2_sizes\n",
            "5146  2968943  8.814623e+12    21.501518\n",
            "2411  4860012  2.361972e+13    22.212528\n",
            "1718  5954933  3.546123e+13    22.505654\n",
            "4268  7663693  5.873219e+13    22.869608\n",
            "3065   756218  5.718657e+11    19.528443\n",
            "...       ...           ...          ...\n",
            "794   5746336  3.302038e+13    22.454211\n",
            "142   6159388  3.793806e+13    22.554356\n",
            "4220  8699913  7.568849e+13    23.052570\n",
            "410   4539170  2.060406e+13    22.113997\n",
            "2004  6429202  4.133464e+13    22.616208\n",
            "\n",
            "[4168 rows x 3 columns]\n",
            "Mean squared error: 0.00158511327602580527\n",
            "Coefficient of determination: 1.00\n"
          ],
          "name": "stdout"
        }
      ]
    },
    {
      "cell_type": "markdown",
      "metadata": {
        "id": "YRQzXOEmIEnk",
        "colab_type": "text"
      },
      "source": [
        "# Sử dụng thử 3 model trên"
      ]
    },
    {
      "cell_type": "code",
      "metadata": {
        "id": "8bZijZgIIJuz",
        "colab_type": "code",
        "colab": {
          "base_uri": "https://localhost:8080/",
          "height": 102
        },
        "outputId": "f66a67b8-5e5e-4b81-e8e0-5e5cb6f9d94f"
      },
      "source": [
        "print(\"Nhap kich thuoc : \")\n",
        "sizes = int(input())\n",
        "sizes_square = sizes ** 2\n",
        "log_2_sizes = math.log2(sizes)\n",
        "print(\"Kêt quả của model thứ 1: %.20f\" % my_model.predict(np.array([sizes]).reshape(1, -1)))\n",
        "print(\"Kêt quả của model thứ 2: %.20f\" % my_2_model.predict(np.array([sizes, sizes_square]).reshape(1, -1)))\n",
        "print(\"Kêt quả của model thứ 3: %.20f\" % my_3_model.predict(np.array([sizes, sizes_square, log_2_sizes]).reshape(1, -1)) )"
      ],
      "execution_count": 103,
      "outputs": [
        {
          "output_type": "stream",
          "text": [
            "Nhap kich thuoc : \n",
            "12\n",
            "Kêt quả của model thứ 1: -0.05392929419234454569\n",
            "Kêt quả của model thứ 2: -0.02081926181847824214\n",
            "Kêt quả của model thứ 3: 0.08454529873914246041\n"
          ],
          "name": "stdout"
        }
      ]
    }
  ]
}