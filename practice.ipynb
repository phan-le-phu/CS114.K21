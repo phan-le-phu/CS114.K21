{
  "nbformat": 4,
  "nbformat_minor": 0,
  "metadata": {
    "colab": {
      "name": "practice.ipynb",
      "provenance": [],
      "authorship_tag": "ABX9TyNYXanhT98ndTSGQOj97mXt",
      "include_colab_link": true
    },
    "kernelspec": {
      "name": "python3",
      "display_name": "Python 3"
    }
  },
  "cells": [
    {
      "cell_type": "markdown",
      "metadata": {
        "id": "view-in-github",
        "colab_type": "text"
      },
      "source": [
        "<a href=\"https://colab.research.google.com/github/phan-le-phu/CS114.K21/blob/master/practice.ipynb\" target=\"_parent\"><img src=\"https://colab.research.google.com/assets/colab-badge.svg\" alt=\"Open In Colab\"/></a>"
      ]
    },
    {
      "cell_type": "code",
      "metadata": {
        "id": "k4wcg38kAsaD",
        "colab_type": "code",
        "colab": {}
      },
      "source": [
        "# Load libraries\n",
        "import math\n",
        "import numpy as np\n",
        "import matplotlib.pyplot as plt\n",
        "import pandas as pd\n",
        "from sklearn.model_selection import train_test_split\n",
        "from sklearn import linear_model\n",
        "from sklearn.metrics import mean_squared_error, r2_score\n"
      ],
      "execution_count": 0,
      "outputs": []
    },
    {
      "cell_type": "code",
      "metadata": {
        "id": "P85K1CZjA0rt",
        "colab_type": "code",
        "colab": {}
      },
      "source": [
        "# Load dataset\n",
        "url = \"https://cs.uit.edu.vn/data.txt\"\n",
        "names = ['sizes', 'times']\n",
        "dataset = pd.read_csv(url, names=names)\n",
        "\n",
        "# add  new features (n^2, log2n)\n",
        "sizes_square = []\n",
        "log_2_sizes = []\n",
        "for index, row in dataset.iterrows():\n",
        "  sizes_square.append(row[\"sizes\"] ** 2)\n",
        "  log_2_sizes.append(math.log2(row[\"sizes\"]))\n",
        "dataset[\"sizes_square\"] = sizes_square\n",
        "dataset[\"log_2_sizes\"] = log_2_sizes"
      ],
      "execution_count": 0,
      "outputs": []
    },
    {
      "cell_type": "code",
      "metadata": {
        "id": "4LNRIQ0BBMVm",
        "colab_type": "code",
        "outputId": "33d6af8f-7829-41c1-fe18-e8a803386eed",
        "colab": {
          "base_uri": "https://localhost:8080/",
          "height": 34
        }
      },
      "source": [
        "# shape\n",
        "print(dataset.shape)"
      ],
      "execution_count": 158,
      "outputs": [
        {
          "output_type": "stream",
          "text": [
            "(5211, 4)\n"
          ],
          "name": "stdout"
        }
      ]
    },
    {
      "cell_type": "code",
      "metadata": {
        "id": "WZbAie7jBbOT",
        "colab_type": "code",
        "outputId": "d897d8cc-e323-4fe3-c4be-b3c5ddfefaaa",
        "colab": {
          "base_uri": "https://localhost:8080/",
          "height": 374
        }
      },
      "source": [
        "# head\n",
        "print(dataset.head(20))"
      ],
      "execution_count": 159,
      "outputs": [
        {
          "output_type": "stream",
          "text": [
            "      sizes     times  sizes_square  log_2_sizes\n",
            "0   4032139  1.200580  1.625814e+13    21.943114\n",
            "1   2055486  0.509774  4.225023e+12    20.971048\n",
            "2   5626651  1.476080  3.165920e+13    22.423845\n",
            "3     42065  0.007651  1.769464e+09    15.360333\n",
            "4   6297788  1.661560  3.966213e+13    22.586414\n",
            "5   8871407  2.653120  7.870186e+13    23.080732\n",
            "6   3106899  0.801168  9.652821e+12    21.567044\n",
            "7   2410855  0.598170  5.812222e+12    21.201113\n",
            "8    558704  0.129056  3.121502e+11    19.091725\n",
            "9   9012730  2.477870  8.122930e+13    23.103533\n",
            "10  6099403  1.631770  3.720272e+13    22.540237\n",
            "11  7189925  1.940180  5.169502e+13    22.777545\n",
            "12  3759151  0.978011  1.413122e+13    21.841975\n",
            "13  8004274  2.202210  6.406840e+13    22.932339\n",
            "14  4125525  1.059360  1.701996e+13    21.976146\n",
            "15  7580493  2.084130  5.746387e+13    22.853860\n",
            "16  9045670  2.461290  8.182415e+13    23.108796\n",
            "17  2987773  0.768997  8.926787e+12    21.510639\n",
            "18  2956967  0.780160  8.743654e+12    21.495687\n",
            "19  1941281  0.477229  3.768572e+12    20.888578\n"
          ],
          "name": "stdout"
        }
      ]
    },
    {
      "cell_type": "code",
      "metadata": {
        "id": "nCMlHWHXBrVG",
        "colab_type": "code",
        "outputId": "11ffb1f6-2e59-48f3-924e-b32a9d954eae",
        "colab": {
          "base_uri": "https://localhost:8080/",
          "height": 170
        }
      },
      "source": [
        "# descriptions\n",
        "print(dataset.describe())"
      ],
      "execution_count": 160,
      "outputs": [
        {
          "output_type": "stream",
          "text": [
            "              sizes        times  sizes_square  log_2_sizes\n",
            "count  5.211000e+03  5211.000000  5.211000e+03  5211.000000\n",
            "mean   4.991583e+06     1.363322  3.334470e+13    21.801786\n",
            "std    2.903517e+06     0.825849  2.997776e+13     1.459945\n",
            "min    2.390000e+02     0.000028  5.712100e+04     7.900867\n",
            "25%    2.451362e+06     0.630964  6.009176e+12    21.225152\n",
            "50%    5.032102e+06     1.355770  2.532205e+13    22.262730\n",
            "75%    7.523041e+06     2.076820  5.659615e+13    22.842885\n",
            "max    9.995358e+06     3.315540  9.990718e+13    23.252827\n"
          ],
          "name": "stdout"
        }
      ]
    },
    {
      "cell_type": "code",
      "metadata": {
        "id": "NosTJBO4CsC5",
        "colab_type": "code",
        "outputId": "d05a317b-e745-47d3-b0d3-459ccb637db0",
        "colab": {
          "base_uri": "https://localhost:8080/",
          "height": 221
        }
      },
      "source": [
        "print(dataset.info())"
      ],
      "execution_count": 161,
      "outputs": [
        {
          "output_type": "stream",
          "text": [
            "<class 'pandas.core.frame.DataFrame'>\n",
            "RangeIndex: 5211 entries, 0 to 5210\n",
            "Data columns (total 4 columns):\n",
            " #   Column        Non-Null Count  Dtype  \n",
            "---  ------        --------------  -----  \n",
            " 0   sizes         5211 non-null   int64  \n",
            " 1   times         5211 non-null   float64\n",
            " 2   sizes_square  5211 non-null   float64\n",
            " 3   log_2_sizes   5211 non-null   float64\n",
            "dtypes: float64(3), int64(1)\n",
            "memory usage: 163.0 KB\n",
            "None\n"
          ],
          "name": "stdout"
        }
      ]
    },
    {
      "cell_type": "code",
      "metadata": {
        "id": "XnTEdT0qcxYS",
        "colab_type": "code",
        "outputId": "fe6c3230-f22b-4fe0-e2c0-32627d39c592",
        "colab": {
          "base_uri": "https://localhost:8080/",
          "height": 278
        }
      },
      "source": [
        "plt.scatter(dataset[\"sizes\"],dataset[\"times\"])\n",
        "plt.show()\n"
      ],
      "execution_count": 162,
      "outputs": [
        {
          "output_type": "display_data",
          "data": {
            "image/png": "[encoded data removed]",
            "text/plain": [
              "<Figure size 432x288 with 1 Axes>"
            ]
          },
          "metadata": {
            "tags": [],
            "needs_background": "light"
          }
        }
      ]
    },
    {
      "cell_type": "code",
      "metadata": {
        "id": "nlUeZ7zDiUd2",
        "colab_type": "code",
        "colab": {}
      },
      "source": [
        "X_train, X_test, Y_train, Y_test = train_test_split(dataset.loc[:, ['sizes', 'sizes_square', 'log_2_sizes']], dataset[\"times\"], test_size = 0.2)\n",
        "Y_train = Y_train.values.reshape(-1, 1)\n",
        "Y_test = Y_test.values.reshape(-1, 1)"
      ],
      "execution_count": 0,
      "outputs": []
    },
    {
      "cell_type": "code",
      "metadata": {
        "id": "vMlTb-rFjKD4",
        "colab_type": "code",
        "colab": {}
      },
      "source": [
        "my_model =  linear_model.LinearRegression()"
      ],
      "execution_count": 0,
      "outputs": []
    },
    {
      "cell_type": "markdown",
      "metadata": {
        "id": "ufsNnqoKXBER",
        "colab_type": "text"
      },
      "source": [
        "# train model thứ 1 với 1 feature la sizes"
      ]
    },
    {
      "cell_type": "code",
      "metadata": {
        "id": "ktThHAo7lNbX",
        "colab_type": "code",
        "outputId": "73718286-4e82-438f-b2ee-217b71649d89",
        "colab": {
          "base_uri": "https://localhost:8080/",
          "height": 34
        }
      },
      "source": [
        "my_model.fit(X_train[\"sizes\"].values.reshape(-1, 1), Y_train)"
      ],
      "execution_count": 165,
      "outputs": [
        {
          "output_type": "execute_result",
          "data": {
            "text/plain": [
              "LinearRegression(copy_X=True, fit_intercept=True, n_jobs=None, normalize=False)"
            ]
          },
          "metadata": {
            "tags": []
          },
          "execution_count": 165
        }
      ]
    },
    {
      "cell_type": "code",
      "metadata": {
        "id": "9YxUGc-BlQ4N",
        "colab_type": "code",
        "colab": {}
      },
      "source": [
        "Y_pred = my_model.predict(X_test[\"sizes\"].values.reshape(-1, 1))"
      ],
      "execution_count": 0,
      "outputs": []
    },
    {
      "cell_type": "code",
      "metadata": {
        "id": "TatUVTBMPrGS",
        "colab_type": "code",
        "outputId": "30c63577-0205-4aa5-e5f7-8c7331897ba8",
        "colab": {
          "base_uri": "https://localhost:8080/",
          "height": 85
        }
      },
      "source": [
        "# The coefficients\n",
        "print('Coefficients: \\n', my_model.coef_)\n",
        "# The mean squared error\n",
        "print('Mean squared error: %.20f'\n",
        "      % mean_squared_error(Y_test, Y_pred))\n",
        "# The coefficient of determination: 1 is perfect prediction\n",
        "print('Coefficient of determination: %.2f'\n",
        "      % r2_score(Y_test, Y_pred))"
      ],
      "execution_count": 167,
      "outputs": [
        {
          "output_type": "stream",
          "text": [
            "Coefficients: \n",
            " [[2.83864242e-07]]\n",
            "Mean squared error: 0.00168247332771743184\n",
            "Coefficient of determination: 1.00\n"
          ],
          "name": "stdout"
        }
      ]
    },
    {
      "cell_type": "code",
      "metadata": {
        "id": "5mAtZtkjQNMZ",
        "colab_type": "code",
        "outputId": "d26b6328-8a8f-43b8-9fb0-605e5c7cec0f",
        "colab": {
          "base_uri": "https://localhost:8080/",
          "height": 252
        }
      },
      "source": [
        "plt.scatter(X_test[\"sizes\"], Y_test,  color='blue')\n",
        "plt.plot(X_test[\"sizes\"], Y_pred, color='yellow', linewidth=3)\n",
        "\n",
        "plt.xticks(())\n",
        "plt.yticks(())\n",
        "\n",
        "plt.show()"
      ],
      "execution_count": 168,
      "outputs": [
        {
          "output_type": "display_data",
          "data": {
            "image/png": "[encoded data removed]",
            "text/plain": [
              "<Figure size 432x288 with 1 Axes>"
            ]
          },
          "metadata": {
            "tags": []
          }
        }
      ]
    },
    {
      "cell_type": "markdown",
      "metadata": {
        "id": "SX-S--2LHN8i",
        "colab_type": "text"
      },
      "source": [
        "# Train model thứ hai với hai features là sizes và sizes_square"
      ]
    },
    {
      "cell_type": "code",
      "metadata": {
        "id": "drWSSl0zd175",
        "colab_type": "code",
        "outputId": "f3e1dd32-5657-4f97-a5bb-6be0eb364769",
        "colab": {
          "base_uri": "https://localhost:8080/",
          "height": 51
        }
      },
      "source": [
        "\n",
        "my_2_model =  linear_model.LinearRegression()\n",
        "\n",
        "my_2_model.fit(X_train.loc[:, ['sizes', 'sizes_square']], Y_train)\n",
        "Y_pred = my_2_model.predict(X_test.loc[:, ['sizes', 'sizes_square']])\n",
        "# The coefficients\n",
        "# print('Coefficients: \\n', my_model.coef_)\n",
        "# The mean squared error\n",
        "print('Mean squared error: %.20f'\n",
        "      % mean_squared_error(Y_test, Y_pred))\n",
        "# The coefficient of determination: 1 is perfect prediction\n",
        "print('Coefficient of determination: %.2f'\n",
        "      % r2_score(Y_test, Y_pred))\n"
      ],
      "execution_count": 169,
      "outputs": [
        {
          "output_type": "stream",
          "text": [
            "Mean squared error: 0.00140064872520781307\n",
            "Coefficient of determination: 1.00\n"
          ],
          "name": "stdout"
        }
      ]
    },
    {
      "cell_type": "markdown",
      "metadata": {
        "id": "rJzRQkPmHgRk",
        "colab_type": "text"
      },
      "source": [
        "# Train model thứ ba với ba features là sizes, sizes_square và log_2_sizes"
      ]
    },
    {
      "cell_type": "code",
      "metadata": {
        "id": "a2Os6dSJHfbo",
        "colab_type": "code",
        "colab": {
          "base_uri": "https://localhost:8080/",
          "height": 51
        },
        "outputId": "d9a9f9a0-5bcb-4bbd-a722-f5afd3ea7780"
      },
      "source": [
        "my_3_model =  linear_model.LinearRegression()\n",
        "\n",
        "my_3_model.fit(X_train, Y_train)\n",
        "Y_pred = my_3_model.predict(X_test)\n",
        "# The coefficients\n",
        "# print('Coefficients: \\n', my_model.coef_)\n",
        "# The mean squared error\n",
        "print('Mean squared error: %.20f'\n",
        "      % mean_squared_error(Y_test, Y_pred))\n",
        "# The coefficient of determination: 1 is perfect prediction\n",
        "print('Coefficient of determination: %.2f'\n",
        "      % r2_score(Y_test, Y_pred))\n"
      ],
      "execution_count": 170,
      "outputs": [
        {
          "output_type": "stream",
          "text": [
            "Mean squared error: 0.00139039052407094227\n",
            "Coefficient of determination: 1.00\n"
          ],
          "name": "stdout"
        }
      ]
    },
    {
      "cell_type": "markdown",
      "metadata": {
        "id": "YRQzXOEmIEnk",
        "colab_type": "text"
      },
      "source": [
        "# Sử dụng thử 3 model trên"
      ]
    },
    {
      "cell_type": "code",
      "metadata": {
        "id": "8bZijZgIIJuz",
        "colab_type": "code",
        "colab": {
          "base_uri": "https://localhost:8080/",
          "height": 102
        },
        "outputId": "2d5f2aed-e07f-4764-ca3d-e5ecac2e8210"
      },
      "source": [
        "print(\"Nhap kich thuoc : \")\n",
        "sizes = int(input())\n",
        "sizes_square = sizes ** 2\n",
        "log_2_sizes = math.log2(sizes)\n",
        "print(\"Kêt quả của model thứ 1: %.20f\" % my_model.predict(np.array([sizes]).reshape(1, -1)))\n",
        "print(\"Kêt quả của model thứ 2: %.20f\" % my_2_model.predict(np.array([sizes, sizes_square]).reshape(1, -1)))\n",
        "print(\"Kêt quả của model thứ 3: %.20f\" % my_3_model.predict(np.array([sizes, sizes_square, log_2_sizes]).reshape(1, -1)) )"
      ],
      "execution_count": 172,
      "outputs": [
        {
          "output_type": "stream",
          "text": [
            "Nhap kich thuoc : \n",
            "12\n",
            "Kêt quả của model thứ 1: -0.05356315159612463211\n",
            "Kêt quả của model thứ 2: -0.02142900336065883468\n",
            "Kêt quả của model thứ 3: 0.08315766217317724363\n"
          ],
          "name": "stdout"
        }
      ]
    }
  ]
}