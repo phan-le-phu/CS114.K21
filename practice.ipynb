{
  "nbformat": 4,
  "nbformat_minor": 0,
  "metadata": {
    "colab": {
      "name": "practice.ipynb",
      "provenance": [],
      "authorship_tag": "ABX9TyMzDPuBfwmYMmHytuU7VJyP",
      "include_colab_link": true
    },
    "kernelspec": {
      "name": "python3",
      "display_name": "Python 3"
    }
  },
  "cells": [
    {
      "cell_type": "markdown",
      "metadata": {
        "id": "view-in-github",
        "colab_type": "text"
      },
      "source": [
        "<a href=\"https://colab.research.google.com/github/phan-le-phu/CS114.K21/blob/master/practice.ipynb\" target=\"_parent\"><img src=\"https://colab.research.google.com/assets/colab-badge.svg\" alt=\"Open In Colab\"/></a>"
      ]
    },
    {
      "cell_type": "code",
      "metadata": {
        "id": "k4wcg38kAsaD",
        "colab_type": "code",
        "colab": {}
      },
      "source": [
        "# Load libraries\n",
        "\n",
        "import matplotlib.pyplot as plt\n",
        "import pandas as pd\n",
        "from sklearn.model_selection import train_test_split\n",
        "from sklearn import linear_model\n",
        "from sklearn.metrics import mean_squared_error, r2_score\n"
      ],
      "execution_count": 0,
      "outputs": []
    },
    {
      "cell_type": "code",
      "metadata": {
        "id": "P85K1CZjA0rt",
        "colab_type": "code",
        "colab": {}
      },
      "source": [
        "# Load dataset\n",
        "url = \"https://cs.uit.edu.vn/data.txt\"\n",
        "names = ['sizes', 'times']\n",
        "dataset = pd.read_csv(url, names=names)"
      ],
      "execution_count": 0,
      "outputs": []
    },
    {
      "cell_type": "code",
      "metadata": {
        "id": "4LNRIQ0BBMVm",
        "colab_type": "code",
        "outputId": "c8fc2518-abdb-4e5f-8419-8fe1ed36107a",
        "colab": {
          "base_uri": "https://localhost:8080/",
          "height": 34
        }
      },
      "source": [
        "# shape\n",
        "print(dataset.shape)"
      ],
      "execution_count": 69,
      "outputs": [
        {
          "output_type": "stream",
          "text": [
            "(5211, 2)\n"
          ],
          "name": "stdout"
        }
      ]
    },
    {
      "cell_type": "code",
      "metadata": {
        "id": "WZbAie7jBbOT",
        "colab_type": "code",
        "outputId": "6a810263-a35c-4744-df28-f266d23b7eeb",
        "colab": {
          "base_uri": "https://localhost:8080/",
          "height": 374
        }
      },
      "source": [
        "# head\n",
        "print(dataset.head(20))"
      ],
      "execution_count": 70,
      "outputs": [
        {
          "output_type": "stream",
          "text": [
            "      sizes     times\n",
            "0   4032139  1.200580\n",
            "1   2055486  0.509774\n",
            "2   5626651  1.476080\n",
            "3     42065  0.007651\n",
            "4   6297788  1.661560\n",
            "5   8871407  2.653120\n",
            "6   3106899  0.801168\n",
            "7   2410855  0.598170\n",
            "8    558704  0.129056\n",
            "9   9012730  2.477870\n",
            "10  6099403  1.631770\n",
            "11  7189925  1.940180\n",
            "12  3759151  0.978011\n",
            "13  8004274  2.202210\n",
            "14  4125525  1.059360\n",
            "15  7580493  2.084130\n",
            "16  9045670  2.461290\n",
            "17  2987773  0.768997\n",
            "18  2956967  0.780160\n",
            "19  1941281  0.477229\n"
          ],
          "name": "stdout"
        }
      ]
    },
    {
      "cell_type": "code",
      "metadata": {
        "id": "nCMlHWHXBrVG",
        "colab_type": "code",
        "outputId": "22c1ea85-9d73-4833-964d-81901f80f85a",
        "colab": {
          "base_uri": "https://localhost:8080/",
          "height": 170
        }
      },
      "source": [
        "# descriptions\n",
        "print(dataset.describe())"
      ],
      "execution_count": 71,
      "outputs": [
        {
          "output_type": "stream",
          "text": [
            "              sizes        times\n",
            "count  5.211000e+03  5211.000000\n",
            "mean   4.991583e+06     1.363322\n",
            "std    2.903517e+06     0.825849\n",
            "min    2.390000e+02     0.000028\n",
            "25%    2.451362e+06     0.630964\n",
            "50%    5.032102e+06     1.355770\n",
            "75%    7.523041e+06     2.076820\n",
            "max    9.995358e+06     3.315540\n"
          ],
          "name": "stdout"
        }
      ]
    },
    {
      "cell_type": "code",
      "metadata": {
        "id": "NosTJBO4CsC5",
        "colab_type": "code",
        "outputId": "dffbc468-2247-48e5-f61c-3b3c45c19688",
        "colab": {
          "base_uri": "https://localhost:8080/",
          "height": 187
        }
      },
      "source": [
        "print(dataset.info())"
      ],
      "execution_count": 72,
      "outputs": [
        {
          "output_type": "stream",
          "text": [
            "<class 'pandas.core.frame.DataFrame'>\n",
            "RangeIndex: 5211 entries, 0 to 5210\n",
            "Data columns (total 2 columns):\n",
            " #   Column  Non-Null Count  Dtype  \n",
            "---  ------  --------------  -----  \n",
            " 0   sizes   5211 non-null   int64  \n",
            " 1   times   5211 non-null   float64\n",
            "dtypes: float64(1), int64(1)\n",
            "memory usage: 81.5 KB\n",
            "None\n"
          ],
          "name": "stdout"
        }
      ]
    },
    {
      "cell_type": "code",
      "metadata": {
        "id": "XnTEdT0qcxYS",
        "colab_type": "code",
        "colab": {
          "base_uri": "https://localhost:8080/",
          "height": 278
        },
        "outputId": "4476af56-e384-4f72-fe37-8ad0ceb8ba4d"
      },
      "source": [
        "plt.scatter(dataset[\"sizes\"],dataset[\"times\"])\n",
        "plt.show()\n"
      ],
      "execution_count": 73,
      "outputs": [
        {
          "output_type": "display_data",
          "data": {
            "image/png": "[encoded data removed]",
            "text/plain": [
              "<Figure size 432x288 with 1 Axes>"
            ]
          },
          "metadata": {
            "tags": [],
            "needs_background": "light"
          }
        }
      ]
    },
    {
      "cell_type": "code",
      "metadata": {
        "id": "nlUeZ7zDiUd2",
        "colab_type": "code",
        "colab": {}
      },
      "source": [
        "X_train, X_test, Y_train, Y_test = train_test_split(dataset[\"sizes\"], dataset[\"times\"], test_size = 0.2)"
      ],
      "execution_count": 0,
      "outputs": []
    },
    {
      "cell_type": "code",
      "metadata": {
        "id": "vMlTb-rFjKD4",
        "colab_type": "code",
        "colab": {}
      },
      "source": [
        "my_model =  linear_model.LinearRegression()"
      ],
      "execution_count": 0,
      "outputs": []
    },
    {
      "cell_type": "code",
      "metadata": {
        "id": "ktThHAo7lNbX",
        "colab_type": "code",
        "colab": {
          "base_uri": "https://localhost:8080/",
          "height": 34
        },
        "outputId": "aa1e4481-335c-4e52-cf70-0460f3efdb02"
      },
      "source": [
        "X_train = X_train.values.reshape(-1, 1)\n",
        "Y_train = Y_train.values.reshape(-1, 1)\n",
        "X_test = X_test.values.reshape(-1, 1)\n",
        "Y_test = Y_test.values.reshape(-1, 1)\n",
        "my_model.fit(X_train, Y_train)"
      ],
      "execution_count": 76,
      "outputs": [
        {
          "output_type": "execute_result",
          "data": {
            "text/plain": [
              "LinearRegression(copy_X=True, fit_intercept=True, n_jobs=None, normalize=False)"
            ]
          },
          "metadata": {
            "tags": []
          },
          "execution_count": 76
        }
      ]
    },
    {
      "cell_type": "code",
      "metadata": {
        "id": "9YxUGc-BlQ4N",
        "colab_type": "code",
        "colab": {}
      },
      "source": [
        "Y_pred = my_model.predict(X_test)"
      ],
      "execution_count": 0,
      "outputs": []
    },
    {
      "cell_type": "code",
      "metadata": {
        "id": "TatUVTBMPrGS",
        "colab_type": "code",
        "colab": {
          "base_uri": "https://localhost:8080/",
          "height": 85
        },
        "outputId": "80c1c47b-5edc-493f-c8d5-d3de4564120d"
      },
      "source": [
        "# The coefficients\n",
        "print('Coefficients: \\n', my_model.coef_)\n",
        "# The mean squared error\n",
        "print('Mean squared error: %.10f'\n",
        "      % mean_squared_error(Y_test, Y_pred))\n",
        "# The coefficient of determination: 1 is perfect prediction\n",
        "print('Coefficient of determination: %.2f'\n",
        "      % r2_score(Y_test, Y_pred))"
      ],
      "execution_count": 78,
      "outputs": [
        {
          "output_type": "stream",
          "text": [
            "Coefficients: \n",
            " [[2.84086376e-07]]\n",
            "Mean squared error: 0.0016849955\n",
            "Coefficient of determination: 1.00\n"
          ],
          "name": "stdout"
        }
      ]
    },
    {
      "cell_type": "code",
      "metadata": {
        "id": "5mAtZtkjQNMZ",
        "colab_type": "code",
        "colab": {
          "base_uri": "https://localhost:8080/",
          "height": 252
        },
        "outputId": "d3c3c2de-94ed-4227-e86f-af89127ff6d8"
      },
      "source": [
        "plt.scatter(X_test, Y_test,  color='blue')\n",
        "plt.plot(X_test, Y_pred, color='yellow', linewidth=3)\n",
        "\n",
        "plt.xticks(())\n",
        "plt.yticks(())\n",
        "\n",
        "plt.show()"
      ],
      "execution_count": 79,
      "outputs": [
        {
          "output_type": "display_data",
          "data": {
            "image/png": "[encoded data removed]",
            "text/plain": [
              "<Figure size 432x288 with 1 Axes>"
            ]
          },
          "metadata": {
            "tags": []
          }
        }
      ]
    }
  ]
}