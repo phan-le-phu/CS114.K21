{
  "nbformat": 4,
  "nbformat_minor": 0,
  "metadata": {
    "colab": {
      "name": "round3.ipynb",
      "provenance": [],
      "authorship_tag": "ABX9TyPkHfl0xDqZwVGL7lp73dht",
      "include_colab_link": true
    },
    "kernelspec": {
      "name": "python3",
      "display_name": "Python 3"
    }
  },
  "cells": [
    {
      "cell_type": "markdown",
      "metadata": {
        "id": "view-in-github",
        "colab_type": "text"
      },
      "source": [
        "<a href=\"https://colab.research.google.com/github/phan-le-phu/CS114.K21/blob/master/round3.ipynb\" target=\"_parent\"><img src=\"https://colab.research.google.com/assets/colab-badge.svg\" alt=\"Open In Colab\"/></a>"
      ]
    },
    {
      "cell_type": "code",
      "metadata": {
        "id": "HQYpiC-QH91e",
        "colab_type": "code",
        "colab": {}
      },
      "source": [
        "import math\n",
        "import numpy as np\n",
        "import matplotlib.pyplot as plt\n",
        "import pandas as pd\n",
        "import joblib\n",
        "from sklearn.model_selection import train_test_split\n",
        "from sklearn import linear_model\n",
        "from sklearn.metrics import mean_squared_error, r2_score"
      ],
      "execution_count": 0,
      "outputs": []
    },
    {
      "cell_type": "markdown",
      "metadata": {
        "id": "iXv6R3BoMU6c",
        "colab_type": "text"
      },
      "source": [
        "# Tải tập dữ liệu từ đường dẫn http://cs.uit.edu.vn/data3.txt\n",
        "\n"
      ]
    },
    {
      "cell_type": "code",
      "metadata": {
        "id": "Mk1Fj3PCH_it",
        "colab_type": "code",
        "colab": {}
      },
      "source": [
        "\n",
        "# Load dataset\n",
        "url = \"http://cs.uit.edu.vn/data3.txt\"\n",
        "names = ['sizes', 'times']\n",
        "dataset = pd.read_csv(url, names=names)"
      ],
      "execution_count": 0,
      "outputs": []
    },
    {
      "cell_type": "code",
      "metadata": {
        "id": "YouDm-iHIDb7",
        "colab_type": "code",
        "outputId": "c1c5819f-11e7-4212-c1fc-cf149730778f",
        "colab": {
          "base_uri": "https://localhost:8080/",
          "height": 561
        }
      },
      "source": [
        "print(dataset.shape)\n",
        "print(dataset.head(20))\n",
        "print(dataset.info())"
      ],
      "execution_count": 11,
      "outputs": [
        {
          "output_type": "stream",
          "text": [
            "(10590, 2)\n",
            "       sizes    times\n",
            "0   37837612  4.12166\n",
            "1   37395246  3.92089\n",
            "2   36610827  3.21540\n",
            "3   29555651  2.54506\n",
            "4   25928216  2.21831\n",
            "5   30423112  2.61376\n",
            "6   21881189  1.85961\n",
            "7   35810179  3.14761\n",
            "8   35355055  3.07585\n",
            "9   29399699  2.56714\n",
            "10  26742410  2.33296\n",
            "11  22226708  1.89650\n",
            "12  36012167  3.11725\n",
            "13  20012216  1.69030\n",
            "14  30359668  2.60618\n",
            "15  36964801  3.22989\n",
            "16  36575580  3.21127\n",
            "17  34097080  2.96928\n",
            "18  34567269  2.99348\n",
            "19  37992370  3.31558\n",
            "<class 'pandas.core.frame.DataFrame'>\n",
            "RangeIndex: 10590 entries, 0 to 10589\n",
            "Data columns (total 2 columns):\n",
            " #   Column  Non-Null Count  Dtype  \n",
            "---  ------  --------------  -----  \n",
            " 0   sizes   10590 non-null  int64  \n",
            " 1   times   10590 non-null  float64\n",
            "dtypes: float64(1), int64(1)\n",
            "memory usage: 165.6 KB\n",
            "None\n"
          ],
          "name": "stdout"
        }
      ]
    },
    {
      "cell_type": "code",
      "metadata": {
        "id": "R4EDdweCJGW4",
        "colab_type": "code",
        "outputId": "e5d8b2e6-9407-4a03-a1f2-b4fe7cbf05ae",
        "colab": {
          "base_uri": "https://localhost:8080/",
          "height": 278
        }
      },
      "source": [
        "plt.scatter(dataset[\"sizes\"], dataset[\"times\"])\n",
        "plt.show()"
      ],
      "execution_count": 12,
      "outputs": [
        {
          "output_type": "display_data",
          "data": {
            "image/png": "[encoded data removed]",
            "text/plain": [
              "<Figure size 432x288 with 1 Axes>"
            ]
          },
          "metadata": {
            "tags": [],
            "needs_background": "light"
          }
        }
      ]
    },
    {
      "cell_type": "markdown",
      "metadata": {
        "id": "v6EUQBgMMl99",
        "colab_type": "text"
      },
      "source": [
        "# sử dụng model ở round 2 để kiêm tra với tập dữ liệu mới data3.txt\n",
        "\n"
      ]
    },
    {
      "cell_type": "markdown",
      "metadata": {
        "id": "-sNOUbB6NesF",
        "colab_type": "text"
      },
      "source": [
        "# tải model ở round 2 đã được lưu trên google drive"
      ]
    },
    {
      "cell_type": "code",
      "metadata": {
        "id": "jYCBPPBDMmT3",
        "colab_type": "code",
        "outputId": "cc348b1f-2720-40af-b094-a1ad6781050a",
        "colab": {
          "base_uri": "https://localhost:8080/",
          "height": 122
        }
      },
      "source": [
        "from google.colab import drive\n",
        "drive.mount('/content/gdrive')"
      ],
      "execution_count": 21,
      "outputs": [
        {
          "output_type": "stream",
          "text": [
            "Go to this URL in a browser: https://accounts.google.com/o/oauth2/auth?client_id=947318989803-6bn6qk8qdgf4n4g3pfee6491hc0brc4i.apps.googleusercontent.com&redirect_uri=urn%3aietf%3awg%3aoauth%3a2.0%3aoob&response_type=code&scope=email%20https%3a%2f%2fwww.googleapis.com%2fauth%2fdocs.test%20https%3a%2f%2fwww.googleapis.com%2fauth%2fdrive%20https%3a%2f%2fwww.googleapis.com%2fauth%2fdrive.photos.readonly%20https%3a%2f%2fwww.googleapis.com%2fauth%2fpeopleapi.readonly\n",
            "\n",
            "Enter your authorization code:\n",
            "··········\n",
            "Mounted at /content/gdrive\n"
          ],
          "name": "stdout"
        }
      ]
    },
    {
      "cell_type": "code",
      "metadata": {
        "id": "U_ZDxydJT8sn",
        "colab_type": "code",
        "colab": {}
      },
      "source": [
        "import torch\n",
        "model_save_name = 'round2_model.pt'\n",
        "path = F\"/content/gdrive/My Drive/{model_save_name}\"\n",
        "round2_model = torch.load(path)"
      ],
      "execution_count": 0,
      "outputs": []
    },
    {
      "cell_type": "markdown",
      "metadata": {
        "id": "rj97oBx4UuOa",
        "colab_type": "text"
      },
      "source": [
        "# Kiểm thử model ở round 2 với tập dữ liệu mới"
      ]
    },
    {
      "cell_type": "code",
      "metadata": {
        "id": "H9AYNG9oU84_",
        "colab_type": "code",
        "colab": {}
      },
      "source": [
        "Y_pred = round2_model.predict(dataset[\"sizes\"].values.reshape(-1, 1))"
      ],
      "execution_count": 0,
      "outputs": []
    },
    {
      "cell_type": "code",
      "metadata": {
        "id": "lryGN-v2VT70",
        "colab_type": "code",
        "colab": {
          "base_uri": "https://localhost:8080/",
          "height": 51
        },
        "outputId": "61a3054b-8c6d-45f4-9db4-040621dcc771"
      },
      "source": [
        "# The mean squared error\n",
        "print('Mean squared error: %.20f'\n",
        "      % mean_squared_error(dataset[\"times\"], Y_pred))\n",
        "# The coefficient of determination: 1 is perfect prediction\n",
        "print('Coefficient of determination: %.2f'\n",
        "      % r2_score(dataset[\"times\"], Y_pred))"
      ],
      "execution_count": 26,
      "outputs": [
        {
          "output_type": "stream",
          "text": [
            "Mean squared error: 0.02063167837707020544\n",
            "Coefficient of determination: 0.93\n"
          ],
          "name": "stdout"
        }
      ]
    },
    {
      "cell_type": "markdown",
      "metadata": {
        "id": "IqItJpI2VlZc",
        "colab_type": "text"
      },
      "source": [
        "# Nhận xét thấy model mean squared error tăng lên khá nhiều với so với kêt quá cũ và R^2 thay đổi còn 0.93\n",
        "# Kích thước test dữ liệu ở round 2 là 14223 entries và kích thước test dữ liệu ở round 3 là 10590. Khá tương đồng nên có thể kích thước dữ liệu không ảnh hưởng đáng kể\n",
        "# Nhưng dựa vào biểu minh họa sự phân bố dữ liệu của dataset 2 và dataset 3 thì dataset 3 có nhiều giá trị nhiễu hơn so với dataset 2 => đây có thể là nguyên nhân\n",
        "# Có thể model ở round 2 còn thiếu vài features khác ta có thể kiểm chứng sau đây"
      ]
    },
    {
      "cell_type": "markdown",
      "metadata": {
        "id": "V-uxKRnFmmu3",
        "colab_type": "text"
      },
      "source": [
        "\n",
        "*sự phân bố của tập dataset 2*\n",
        "\n"
      ]
    },
    {
      "cell_type": "code",
      "metadata": {
        "id": "zRocp8RmmVQ4",
        "colab_type": "code",
        "colab": {
          "base_uri": "https://localhost:8080/",
          "height": 278
        },
        "outputId": "72d02656-fe17-4080-bc60-5550b37863c9"
      },
      "source": [
        "# Load dataset\n",
        "url = \"http://cs.uit.edu.vn/data2.txt\"\n",
        "names = ['sizes', 'times']\n",
        "dataset = pd.read_csv(url, names=names)\n",
        "plt.scatter(dataset[\"sizes\"], dataset[\"times\"])\n",
        "plt.show()"
      ],
      "execution_count": 27,
      "outputs": [
        {
          "output_type": "display_data",
          "data": {
            "image/png": "[encoded data removed]",
            "text/plain": [
              "<Figure size 432x288 with 1 Axes>"
            ]
          },
          "metadata": {
            "tags": [],
            "needs_background": "light"
          }
        }
      ]
    },
    {
      "cell_type": "markdown",
      "metadata": {
        "id": "nHF0pQ3QmuRU",
        "colab_type": "text"
      },
      "source": [
        "*sự phân bố của tập dataset 3*"
      ]
    },
    {
      "cell_type": "code",
      "metadata": {
        "id": "je2gmCKrmdek",
        "colab_type": "code",
        "colab": {
          "base_uri": "https://localhost:8080/",
          "height": 278
        },
        "outputId": "e90aeb9c-6ea4-49a9-c393-1b535050cf32"
      },
      "source": [
        "url = \"http://cs.uit.edu.vn/data3.txt\"\n",
        "names = ['sizes', 'times']\n",
        "dataset = pd.read_csv(url, names=names)\n",
        "plt.scatter(dataset[\"sizes\"], dataset[\"times\"])\n",
        "plt.show()"
      ],
      "execution_count": 28,
      "outputs": [
        {
          "output_type": "display_data",
          "data": {
            "image/png": "[encoded data removed]",
            "text/plain": [
              "<Figure size 432x288 with 1 Axes>"
            ]
          },
          "metadata": {
            "tags": [],
            "needs_background": "light"
          }
        }
      ]
    },
    {
      "cell_type": "markdown",
      "metadata": {
        "id": "PPYH9W4BnPvC",
        "colab_type": "text"
      },
      "source": [
        "# Thêm các features mới (sizes_square log_2_sizes) và xây dựng model mới dựa trên tập dataset 2"
      ]
    },
    {
      "cell_type": "code",
      "metadata": {
        "id": "ItwzPnufnXGB",
        "colab_type": "code",
        "colab": {
          "base_uri": "https://localhost:8080/",
          "height": 34
        },
        "outputId": "895ab717-759f-457a-d982-0eef8c694419"
      },
      "source": [
        "url = \"https://cs.uit.edu.vn/data2.txt\"\n",
        "names = ['sizes', 'times']\n",
        "dataset = pd.read_csv(url, names=names)\n",
        "\n",
        "# add  new features (n^2, log2n)\n",
        "sizes_square = []\n",
        "log_2_sizes = []\n",
        "for index, row in dataset.iterrows():\n",
        "  sizes_square.append(row[\"sizes\"] ** 2)\n",
        "  log_2_sizes.append(math.log2(row[\"sizes\"]))\n",
        "dataset[\"sizes_square\"] = sizes_square\n",
        "dataset[\"log_2_sizes\"] = log_2_sizes\n",
        "\n",
        "X_train, X_test, Y_train, Y_test = train_test_split(dataset.loc[:, ['sizes', 'sizes_square', 'log_2_sizes']], dataset[\"times\"], test_size = 0.2)\n",
        "Y_train = Y_train.values.reshape(-1, 1)\n",
        "Y_test = Y_test.values.reshape(-1, 1)\n",
        "\n",
        "\n",
        "my_new_model =  linear_model.LinearRegression()\n",
        "\n",
        "my_new_model.fit(X_train, Y_train)\n"
      ],
      "execution_count": 29,
      "outputs": [
        {
          "output_type": "execute_result",
          "data": {
            "text/plain": [
              "LinearRegression(copy_X=True, fit_intercept=True, n_jobs=None, normalize=False)"
            ]
          },
          "metadata": {
            "tags": []
          },
          "execution_count": 29
        }
      ]
    },
    {
      "cell_type": "markdown",
      "metadata": {
        "id": "xUqlF97NomZJ",
        "colab_type": "text"
      },
      "source": [
        "# Kiểm tra model mới được tạo với tập dự liệu X_test có được khi split từ dataset 2"
      ]
    },
    {
      "cell_type": "code",
      "metadata": {
        "id": "07ZudG1so50Q",
        "colab_type": "code",
        "colab": {
          "base_uri": "https://localhost:8080/",
          "height": 51
        },
        "outputId": "d4f723f7-8fec-46c2-a2d0-97cbafd1b841"
      },
      "source": [
        "Y_pred = my_new_model.predict(X_test)\n",
        "# The coefficients\n",
        "# print('Coefficients: \\n', my_model.coef_)\n",
        "# The mean squared error\n",
        "print('Mean squared error: %.20f'\n",
        "      % mean_squared_error(Y_test, Y_pred))\n",
        "# The coefficient of determination: 1 is perfect prediction\n",
        "print('Coefficient of determination: %.2f'\n",
        "      % r2_score(Y_test, Y_pred))"
      ],
      "execution_count": 30,
      "outputs": [
        {
          "output_type": "stream",
          "text": [
            "Mean squared error: 0.00012609948571945564\n",
            "Coefficient of determination: 1.00\n"
          ],
          "name": "stdout"
        }
      ]
    },
    {
      "cell_type": "markdown",
      "metadata": {
        "id": "cSvVfM65pE4q",
        "colab_type": "text"
      },
      "source": [
        "# Kiểm ta model mới được tạo với tập dữ liệu dataset 3"
      ]
    },
    {
      "cell_type": "code",
      "metadata": {
        "id": "nQaM4YOypL1r",
        "colab_type": "code",
        "colab": {
          "base_uri": "https://localhost:8080/",
          "height": 51
        },
        "outputId": "1487af48-e2e7-4afd-a5ab-37c90be24cc1"
      },
      "source": [
        "url = \"https://cs.uit.edu.vn/data3.txt\"\n",
        "names = ['sizes', 'times']\n",
        "dataset = pd.read_csv(url, names=names)\n",
        "\n",
        "# add  new features (n^2, log2n)\n",
        "sizes_square = []\n",
        "log_2_sizes = []\n",
        "for index, row in dataset.iterrows():\n",
        "  sizes_square.append(row[\"sizes\"] ** 2)\n",
        "  log_2_sizes.append(math.log2(row[\"sizes\"]))\n",
        "dataset[\"sizes_square\"] = sizes_square\n",
        "dataset[\"log_2_sizes\"] = log_2_sizes\n",
        "\n",
        "X_test = dataset.loc[:, ['sizes', 'sizes_square', 'log_2_sizes']]\n",
        "Y_test = dataset[\"times\"].values.reshape(-1, 1)\n",
        "\n",
        "Y_pred = my_new_model.predict(X_test)\n",
        "# The coefficients\n",
        "# print('Coefficients: \\n', my_model.coef_)\n",
        "# The mean squared error\n",
        "print('Mean squared error: %.20f'\n",
        "      % mean_squared_error(Y_test, Y_pred))\n",
        "# The coefficient of determination: 1 is perfect prediction\n",
        "print('Coefficient of determination: %.2f'\n",
        "      % r2_score(Y_test, Y_pred))\n"
      ],
      "execution_count": 31,
      "outputs": [
        {
          "output_type": "stream",
          "text": [
            "Mean squared error: 0.04562061383058320374\n",
            "Coefficient of determination: 0.84\n"
          ],
          "name": "stdout"
        }
      ]
    },
    {
      "cell_type": "markdown",
      "metadata": {
        "id": "N8Bi5jDBqKvQ",
        "colab_type": "text"
      },
      "source": [
        "# Nhìn nhận hai kết quả trên cũng giống như khi test với model ở round 2 là độ chính xác sẽ giảm khi test  dataset 3\n",
        "# Nhưng hiệu suất khi test với dataset 3 của model ở round 3 lại nhở hơn với model ở round 2. Điểu này em đoán có thể là tập X_train, Y_train sau khi split dataset 2 để train cho mỗi model không tương đồng nhau (random) nến có thể dẫn đến kết quả không đồng nhất. Hoặc có thể model ở round 3  thêm các featrues chưa được chính xác so với hàm mục tiêu cần tìm nên dẫn đến độ sai lệch lớn hơn. "
      ]
    }
  ]
}